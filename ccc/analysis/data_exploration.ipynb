{
 "cells": [
  {
   "cell_type": "code",
   "execution_count": 1,
   "metadata": {},
   "outputs": [],
   "source": [
    "import _preparation\n",
    "from data.pandas_df import get_data_pandas_df\n",
    "df = get_data_pandas_df()"
   ]
  },
  {
   "cell_type": "code",
   "execution_count": 6,
   "metadata": {},
   "outputs": [
    {
     "data": {
      "text/html": [
       "<div>\n",
       "<style scoped>\n",
       "    .dataframe tbody tr th:only-of-type {\n",
       "        vertical-align: middle;\n",
       "    }\n",
       "\n",
       "    .dataframe tbody tr th {\n",
       "        vertical-align: top;\n",
       "    }\n",
       "\n",
       "    .dataframe thead th {\n",
       "        text-align: right;\n",
       "    }\n",
       "</style>\n",
       "<table border=\"1\" class=\"dataframe\">\n",
       "  <thead>\n",
       "    <tr style=\"text-align: right;\">\n",
       "      <th></th>\n",
       "      <th>ID</th>\n",
       "      <th>Gender</th>\n",
       "      <th>Own_car</th>\n",
       "      <th>Own_property</th>\n",
       "      <th>Work_phone</th>\n",
       "      <th>Phone</th>\n",
       "      <th>Email</th>\n",
       "      <th>Unemployed</th>\n",
       "      <th>Num_children</th>\n",
       "      <th>Num_family</th>\n",
       "      <th>Account_length</th>\n",
       "      <th>Total_income</th>\n",
       "      <th>Age</th>\n",
       "      <th>Years_employed</th>\n",
       "      <th>Income_type</th>\n",
       "      <th>Education_type</th>\n",
       "      <th>Family_status</th>\n",
       "      <th>Housing_type</th>\n",
       "      <th>Occupation_type</th>\n",
       "      <th>Target</th>\n",
       "    </tr>\n",
       "  </thead>\n",
       "  <tbody>\n",
       "    <tr>\n",
       "      <th>3230</th>\n",
       "      <td>5048528</td>\n",
       "      <td>0</td>\n",
       "      <td>1</td>\n",
       "      <td>1</td>\n",
       "      <td>0</td>\n",
       "      <td>0</td>\n",
       "      <td>0</td>\n",
       "      <td>0</td>\n",
       "      <td>1</td>\n",
       "      <td>3</td>\n",
       "      <td>39</td>\n",
       "      <td>270000.0</td>\n",
       "      <td>33.27926</td>\n",
       "      <td>2.680411</td>\n",
       "      <td>Commercial associate</td>\n",
       "      <td>Academic degree</td>\n",
       "      <td>Married</td>\n",
       "      <td>House / apartment</td>\n",
       "      <td>Sales staff</td>\n",
       "      <td>1</td>\n",
       "    </tr>\n",
       "  </tbody>\n",
       "</table>\n",
       "</div>"
      ],
      "text/plain": [
       "           ID  Gender  Own_car  Own_property  Work_phone  Phone  Email  \\\n",
       "3230  5048528       0        1             1           0      0      0   \n",
       "\n",
       "      Unemployed  Num_children  Num_family  Account_length  Total_income  \\\n",
       "3230           0             1           3              39      270000.0   \n",
       "\n",
       "           Age  Years_employed           Income_type   Education_type  \\\n",
       "3230  33.27926        2.680411  Commercial associate  Academic degree   \n",
       "\n",
       "     Family_status       Housing_type Occupation_type  Target  \n",
       "3230       Married  House / apartment     Sales staff       1  "
      ]
     },
     "execution_count": 6,
     "metadata": {},
     "output_type": "execute_result"
    }
   ],
   "source": [
    "df.sample(5)"
   ]
  }
 ],
 "metadata": {
  "interpreter": {
   "hash": "ac59ebe37160ed0dfa835113d9b8498d9f09ceb179beaac4002f036b9467c963"
  },
  "kernelspec": {
   "display_name": "Python 3.9.12 64-bit",
   "language": "python",
   "name": "python3"
  },
  "language_info": {
   "codemirror_mode": {
    "name": "ipython",
    "version": 3
   },
   "file_extension": ".py",
   "mimetype": "text/x-python",
   "name": "python",
   "nbconvert_exporter": "python",
   "pygments_lexer": "ipython3",
   "version": "3.9.12"
  },
  "orig_nbformat": 4
 },
 "nbformat": 4,
 "nbformat_minor": 2
}
