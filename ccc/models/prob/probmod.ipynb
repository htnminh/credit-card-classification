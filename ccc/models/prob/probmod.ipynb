{
  "cells": [
    {
      "cell_type": "code",
      "execution_count": null,
      "metadata": {
        "colab": {
          "base_uri": "https://localhost:8080/"
        },
        "id": "pqpP8g9ZGefA",
        "outputId": "f04107ef-4322-4ea8-ea93-44b15c912c28"
      },
      "outputs": [],
      "source": [
        "import sklearn\n",
        "\n",
        "import pandas as pd\n",
        "from sklearn import preprocessing\n",
        "\n",
        "X_train = pd.read_csv('X_train.csv')\n",
        "y_train = pd.read_csv('y_train.csv')\n",
        "X_test = pd.read_csv('X_test.csv')\n",
        "y_test = pd.read_csv('y_test.csv')\n",
        "\n",
        "X_train = X_train.astype({\"Total_income\":int , \"Age\":int, \"Years_employed\":int})\n",
        "le = preprocessing.LabelEncoder()\n",
        "for feature in X_train:\n",
        "  X_train[feature] = le.fit_transform(X_train[feature])\n",
        "\n",
        "X_train.head(5)\n",
        "\n",
        "X_test = X_test.astype({\"Total_income\":int , \"Age\":int, \"Years_employed\":int})\n",
        "le = preprocessing.LabelEncoder()\n",
        "for feature in X_test:\n",
        "  X_test[feature] = le.fit_transform(X_test[feature])\n",
        "\n",
        "#Import Gaussian Naive Bayes model\n",
        "from sklearn.naive_bayes import GaussianNB\n",
        "# Create a Gaussian Classifier\n",
        "model = GaussianNB()\n",
        "# Train the model using the training sets\n",
        "model.fit(X_train, y_train.values.ravel())\n",
        "#Predict Output\n",
        "y_test = model.predict(X_test)\n",
        "y_test"
      ]
    }
  ],
  "metadata": {
    "colab": {
      "name": "Untitled2.ipynb",
      "provenance": []
    },
    "kernelspec": {
      "display_name": "Python 3",
      "name": "python3"
    },
    "language_info": {
      "name": "python"
    }
  },
  "nbformat": 4,
  "nbformat_minor": 0
}
