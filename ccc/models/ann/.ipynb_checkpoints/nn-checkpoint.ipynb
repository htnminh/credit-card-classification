{
 "cells": [
  {
   "cell_type": "markdown",
   "metadata": {
    "id": "shYMkO8vlAEY"
   },
   "source": [
    "neural network might not applicable to this problem since it can't really infer anything from the data, or it was really hard to fine tune or regularize the model"
   ]
  },
  {
   "cell_type": "markdown",
   "metadata": {
    "id": "OS68d62xYZQY"
   },
   "source": [
    "# Preparation"
   ]
  },
  {
   "cell_type": "code",
   "execution_count": 1,
   "metadata": {
    "executionInfo": {
     "elapsed": 903,
     "status": "ok",
     "timestamp": 1658284631434,
     "user": {
      "displayName": "Nhật Minh Hoàng Trần",
      "userId": "17860532926939693584"
     },
     "user_tz": -420
    },
    "id": "m6WmcqAyV0Sb"
   },
   "outputs": [],
   "source": [
    "import os\n",
    "\n",
    "import pandas as pd\n",
    "import numpy as np\n",
    "\n",
    "import matplotlib.pyplot as plt\n",
    "\n",
    "from sklearn.model_selection import train_test_split\n",
    "from sklearn.neural_network import MLPClassifier\n",
    "from sklearn.metrics import fbeta_score\n",
    "from sklearn.metrics import make_scorer\n",
    "from sklearn.metrics import confusion_matrix"
   ]
  },
  {
   "cell_type": "code",
   "execution_count": 2,
   "metadata": {
    "executionInfo": {
     "elapsed": 3,
     "status": "ok",
     "timestamp": 1658284631434,
     "user": {
      "displayName": "Nhật Minh Hoàng Trần",
      "userId": "17860532926939693584"
     },
     "user_tz": -420
    },
    "id": "6kf8Ols9axlp"
   },
   "outputs": [],
   "source": [
    "DIR_PATH = \"/content/drive/MyDrive/Colab Notebooks/ML CCC\"\n",
    "\n",
    "RANDOM_STATE = 42"
   ]
  },
  {
   "cell_type": "code",
   "execution_count": 3,
   "metadata": {
    "executionInfo": {
     "elapsed": 4,
     "status": "ok",
     "timestamp": 1658284631435,
     "user": {
      "displayName": "Nhật Minh Hoàng Trần",
      "userId": "17860532926939693584"
     },
     "user_tz": -420
    },
    "id": "njopzynfgpnh"
   },
   "outputs": [],
   "source": [
    "f2_score = lambda y_test, y_pred: fbeta_score(y_test, y_pred, beta=2)\n",
    "f2_scorer = make_scorer(fbeta_score, beta=2)"
   ]
  },
  {
   "cell_type": "code",
   "execution_count": 4,
   "metadata": {
    "executionInfo": {
     "elapsed": 4,
     "status": "ok",
     "timestamp": 1658284631435,
     "user": {
      "displayName": "Nhật Minh Hoàng Trần",
      "userId": "17860532926939693584"
     },
     "user_tz": -420
    },
    "id": "87DftqOGbPID"
   },
   "outputs": [],
   "source": [
    "X_train = pd.read_csv(os.path.join(DIR_PATH, 'X_train_prep.csv')) \n",
    "X_test = pd.read_csv(os.path.join(DIR_PATH, 'X_test_prep.csv'))\n",
    "y_train = pd.read_csv(os.path.join(DIR_PATH, 'y_train_prep.csv'))\n",
    "y_test = pd.read_csv(os.path.join(DIR_PATH, 'y_test_prep.csv'))"
   ]
  },
  {
   "cell_type": "code",
   "execution_count": 5,
   "metadata": {
    "executionInfo": {
     "elapsed": 4,
     "status": "ok",
     "timestamp": 1658284631436,
     "user": {
      "displayName": "Nhật Minh Hoàng Trần",
      "userId": "17860532926939693584"
     },
     "user_tz": -420
    },
    "id": "JWaqlmuCbU5k"
   },
   "outputs": [],
   "source": [
    "y_train = y_train.to_numpy().ravel()\n",
    "y_test = y_test.to_numpy().ravel()"
   ]
  },
  {
   "cell_type": "code",
   "execution_count": 6,
   "metadata": {
    "executionInfo": {
     "elapsed": 417,
     "status": "ok",
     "timestamp": 1658284631849,
     "user": {
      "displayName": "Nhật Minh Hoàng Trần",
      "userId": "17860532926939693584"
     },
     "user_tz": -420
    },
    "id": "HR5Qb5_qXtuo"
   },
   "outputs": [],
   "source": [
    "X_val, X_test, y_val, y_test = train_test_split(\n",
    "    X_test, y_test, test_size=0.6,\n",
    "    random_state=RANDOM_STATE,\n",
    ")"
   ]
  },
  {
   "cell_type": "markdown",
   "metadata": {
    "id": "i3_Ha2TKYcAi"
   },
   "source": [
    "# Phase 1"
   ]
  },
  {
   "cell_type": "code",
   "execution_count": 7,
   "metadata": {
    "colab": {
     "base_uri": "https://localhost:8080/"
    },
    "executionInfo": {
     "elapsed": 19752,
     "status": "ok",
     "timestamp": 1658284651600,
     "user": {
      "displayName": "Nhật Minh Hoàng Trần",
      "userId": "17860532926939693584"
     },
     "user_tz": -420
    },
    "id": "JRrqg0b8WX5W",
    "outputId": "4c66ce5a-8ca9-40c2-c10f-0386cc75aa4c"
   },
   "outputs": [
    {
     "name": "stdout",
     "output_type": "stream",
     "text": [
      "[[363 153]\n",
      " [ 36  30]]\n",
      "0.868910782703886\n",
      "0.33557046979865773\n"
     ]
    },
    {
     "name": "stderr",
     "output_type": "stream",
     "text": [
      "/usr/local/lib/python3.7/dist-packages/sklearn/neural_network/_multilayer_perceptron.py:696: ConvergenceWarning: Stochastic Optimizer: Maximum iterations (200) reached and the optimization hasn't converged yet.\n",
      "  ConvergenceWarning,\n"
     ]
    }
   ],
   "source": [
    "nn = MLPClassifier(\n",
    "    hidden_layer_sizes=(32, 16),\n",
    "    alpha=0.0001,\n",
    "    batch_size='auto',\n",
    "    tol=0.0001,\n",
    "    random_state=RANDOM_STATE,\n",
    ").fit(X_train, y_train)\n",
    "y_val_pred = nn.predict(X_val)\n",
    "print(confusion_matrix(y_val, y_val_pred))\n",
    "print(f2_score(y_train, nn.predict(X_train)))\n",
    "print(f2_score(y_val, y_val_pred))"
   ]
  },
  {
   "cell_type": "code",
   "execution_count": 8,
   "metadata": {
    "colab": {
     "base_uri": "https://localhost:8080/"
    },
    "executionInfo": {
     "elapsed": 18057,
     "status": "ok",
     "timestamp": 1658284669655,
     "user": {
      "displayName": "Nhật Minh Hoàng Trần",
      "userId": "17860532926939693584"
     },
     "user_tz": -420
    },
    "id": "tEiXeFpmYUbP",
    "outputId": "e2fcc8c9-6418-42f9-e8a8-0fa7a9e8aed5"
   },
   "outputs": [
    {
     "name": "stdout",
     "output_type": "stream",
     "text": [
      "[[371 145]\n",
      " [ 38  28]]\n",
      "0.8540184235203266\n",
      "0.3203661327231122\n"
     ]
    },
    {
     "name": "stderr",
     "output_type": "stream",
     "text": [
      "/usr/local/lib/python3.7/dist-packages/sklearn/neural_network/_multilayer_perceptron.py:696: ConvergenceWarning: Stochastic Optimizer: Maximum iterations (200) reached and the optimization hasn't converged yet.\n",
      "  ConvergenceWarning,\n"
     ]
    }
   ],
   "source": [
    "nn = MLPClassifier(\n",
    "    hidden_layer_sizes=(32, 16),\n",
    "    alpha=0.001,\n",
    "    batch_size='auto',\n",
    "    tol=0.0001,\n",
    "    random_state=RANDOM_STATE,\n",
    ").fit(X_train, y_train)\n",
    "y_val_pred = nn.predict(X_val)\n",
    "print(confusion_matrix(y_val, y_val_pred))\n",
    "print(f2_score(y_train, nn.predict(X_train)))\n",
    "print(f2_score(y_val, y_val_pred))"
   ]
  },
  {
   "cell_type": "code",
   "execution_count": 9,
   "metadata": {
    "colab": {
     "base_uri": "https://localhost:8080/"
    },
    "executionInfo": {
     "elapsed": 18299,
     "status": "ok",
     "timestamp": 1658284687945,
     "user": {
      "displayName": "Nhật Minh Hoàng Trần",
      "userId": "17860532926939693584"
     },
     "user_tz": -420
    },
    "id": "-UXCLCCzZCEq",
    "outputId": "0fee4cbe-45bf-41d2-ffa2-e654e885ebb4"
   },
   "outputs": [
    {
     "name": "stdout",
     "output_type": "stream",
     "text": [
      "[[380 136]\n",
      " [ 39  27]]\n",
      "0.8604548708629328\n",
      "0.31615925058548006\n"
     ]
    },
    {
     "name": "stderr",
     "output_type": "stream",
     "text": [
      "/usr/local/lib/python3.7/dist-packages/sklearn/neural_network/_multilayer_perceptron.py:696: ConvergenceWarning: Stochastic Optimizer: Maximum iterations (200) reached and the optimization hasn't converged yet.\n",
      "  ConvergenceWarning,\n"
     ]
    }
   ],
   "source": [
    "nn = MLPClassifier(\n",
    "    hidden_layer_sizes=(32, 16),\n",
    "    alpha=0.01,\n",
    "    batch_size='auto',\n",
    "    tol=0.0001,\n",
    "    random_state=RANDOM_STATE,\n",
    ").fit(X_train, y_train)\n",
    "y_val_pred = nn.predict(X_val)\n",
    "print(confusion_matrix(y_val, y_val_pred))\n",
    "print(f2_score(y_train, nn.predict(X_train)))\n",
    "print(f2_score(y_val, y_val_pred))"
   ]
  },
  {
   "cell_type": "code",
   "execution_count": 10,
   "metadata": {
    "colab": {
     "base_uri": "https://localhost:8080/"
    },
    "executionInfo": {
     "elapsed": 17867,
     "status": "ok",
     "timestamp": 1658284705804,
     "user": {
      "displayName": "Nhật Minh Hoàng Trần",
      "userId": "17860532926939693584"
     },
     "user_tz": -420
    },
    "id": "SxWL8FgPZKWe",
    "outputId": "8074c752-a758-4b1c-e274-c1d4a5d7bc81"
   },
   "outputs": [
    {
     "name": "stdout",
     "output_type": "stream",
     "text": [
      "[[366 150]\n",
      " [ 39  27]]\n",
      "0.8546832523272098\n",
      "0.3061224489795919\n"
     ]
    },
    {
     "name": "stderr",
     "output_type": "stream",
     "text": [
      "/usr/local/lib/python3.7/dist-packages/sklearn/neural_network/_multilayer_perceptron.py:696: ConvergenceWarning: Stochastic Optimizer: Maximum iterations (200) reached and the optimization hasn't converged yet.\n",
      "  ConvergenceWarning,\n"
     ]
    }
   ],
   "source": [
    "nn = MLPClassifier(\n",
    "    hidden_layer_sizes=(32, 16),\n",
    "    alpha=0.1,\n",
    "    batch_size='auto',\n",
    "    tol=0.0001,\n",
    "    random_state=RANDOM_STATE,\n",
    ").fit(X_train, y_train)\n",
    "y_val_pred = nn.predict(X_val)\n",
    "print(confusion_matrix(y_val, y_val_pred))\n",
    "print(f2_score(y_train, nn.predict(X_train)))\n",
    "print(f2_score(y_val, y_val_pred))"
   ]
  },
  {
   "cell_type": "code",
   "execution_count": 11,
   "metadata": {
    "colab": {
     "base_uri": "https://localhost:8080/"
    },
    "executionInfo": {
     "elapsed": 10308,
     "status": "ok",
     "timestamp": 1658284716101,
     "user": {
      "displayName": "Nhật Minh Hoàng Trần",
      "userId": "17860532926939693584"
     },
     "user_tz": -420
    },
    "id": "nCewKSNGZROw",
    "outputId": "f479488d-f438-4229-abdd-e3117319a515"
   },
   "outputs": [
    {
     "name": "stdout",
     "output_type": "stream",
     "text": [
      "[[364 152]\n",
      " [ 44  22]]\n",
      "0.7706840028893704\n",
      "0.2511415525114155\n"
     ]
    }
   ],
   "source": [
    "nn = MLPClassifier(\n",
    "    hidden_layer_sizes=(32, 16),\n",
    "    alpha=1,\n",
    "    batch_size='auto',\n",
    "    tol=0.0001,\n",
    "    random_state=RANDOM_STATE,\n",
    ").fit(X_train, y_train)\n",
    "y_val_pred = nn.predict(X_val)\n",
    "print(confusion_matrix(y_val, y_val_pred))\n",
    "print(f2_score(y_train, nn.predict(X_train)))\n",
    "print(f2_score(y_val, y_val_pred))"
   ]
  },
  {
   "cell_type": "code",
   "execution_count": 12,
   "metadata": {
    "colab": {
     "base_uri": "https://localhost:8080/"
    },
    "executionInfo": {
     "elapsed": 4920,
     "status": "ok",
     "timestamp": 1658284721009,
     "user": {
      "displayName": "Nhật Minh Hoàng Trần",
      "userId": "17860532926939693584"
     },
     "user_tz": -420
    },
    "id": "_wJx1OWsZXlO",
    "outputId": "57839d0a-ffbd-4737-bd5f-6d1c84d911a9"
   },
   "outputs": [
    {
     "name": "stdout",
     "output_type": "stream",
     "text": [
      "[[  0 516]\n",
      " [  0  66]]\n",
      "0.8333333333333334\n",
      "0.3900709219858156\n"
     ]
    }
   ],
   "source": [
    "nn = MLPClassifier(\n",
    "    hidden_layer_sizes=(32, 16),\n",
    "    alpha=10,\n",
    "    batch_size='auto',\n",
    "    tol=0.0001,\n",
    "    random_state=RANDOM_STATE,\n",
    ").fit(X_train, y_train)\n",
    "y_val_pred = nn.predict(X_val)\n",
    "print(confusion_matrix(y_val, y_val_pred))\n",
    "print(f2_score(y_train, nn.predict(X_train)))\n",
    "print(f2_score(y_val, y_val_pred))"
   ]
  },
  {
   "cell_type": "markdown",
   "metadata": {
    "id": "6y5gX44LaSAn"
   },
   "source": [
    "# Phase 2"
   ]
  },
  {
   "cell_type": "code",
   "execution_count": 13,
   "metadata": {
    "colab": {
     "base_uri": "https://localhost:8080/"
    },
    "executionInfo": {
     "elapsed": 20945,
     "status": "ok",
     "timestamp": 1658284741951,
     "user": {
      "displayName": "Nhật Minh Hoàng Trần",
      "userId": "17860532926939693584"
     },
     "user_tz": -420
    },
    "id": "qcuS41AGaRxz",
    "outputId": "387da658-a9db-4bc1-946a-24e85414d663"
   },
   "outputs": [
    {
     "name": "stdout",
     "output_type": "stream",
     "text": [
      "[[398 118]\n",
      " [ 45  21]]\n",
      "0.832089447151266\n",
      "0.26054590570719605\n"
     ]
    },
    {
     "name": "stderr",
     "output_type": "stream",
     "text": [
      "/usr/local/lib/python3.7/dist-packages/sklearn/neural_network/_multilayer_perceptron.py:696: ConvergenceWarning: Stochastic Optimizer: Maximum iterations (200) reached and the optimization hasn't converged yet.\n",
      "  ConvergenceWarning,\n"
     ]
    }
   ],
   "source": [
    "nn = MLPClassifier(\n",
    "    hidden_layer_sizes=(32, 16, 8),\n",
    "    alpha=0.0001,\n",
    "    batch_size='auto',\n",
    "    tol=0.0001,\n",
    "    random_state=RANDOM_STATE,\n",
    ").fit(X_train, y_train)\n",
    "y_val_pred = nn.predict(X_val)\n",
    "print(confusion_matrix(y_val, y_val_pred))\n",
    "print(f2_score(y_train, nn.predict(X_train)))\n",
    "print(f2_score(y_val, y_val_pred))"
   ]
  },
  {
   "cell_type": "code",
   "execution_count": 14,
   "metadata": {
    "colab": {
     "base_uri": "https://localhost:8080/"
    },
    "executionInfo": {
     "elapsed": 9737,
     "status": "ok",
     "timestamp": 1658284751678,
     "user": {
      "displayName": "Nhật Minh Hoàng Trần",
      "userId": "17860532926939693584"
     },
     "user_tz": -420
    },
    "id": "NytHQ82zadSX",
    "outputId": "048bc3d8-06e1-4a7f-ee41-8dd3d7b85b8e"
   },
   "outputs": [
    {
     "name": "stdout",
     "output_type": "stream",
     "text": [
      "[[342 174]\n",
      " [ 35  31]]\n",
      "0.8190007075600066\n",
      "0.3304904051172708\n"
     ]
    },
    {
     "name": "stderr",
     "output_type": "stream",
     "text": [
      "/usr/local/lib/python3.7/dist-packages/sklearn/neural_network/_multilayer_perceptron.py:696: ConvergenceWarning: Stochastic Optimizer: Maximum iterations (200) reached and the optimization hasn't converged yet.\n",
      "  ConvergenceWarning,\n"
     ]
    }
   ],
   "source": [
    "nn = MLPClassifier(\n",
    "    hidden_layer_sizes=(16, 8),\n",
    "    alpha=0.0001,\n",
    "    batch_size='auto',\n",
    "    tol=0.0001,\n",
    "    random_state=RANDOM_STATE,\n",
    ").fit(X_train, y_train)\n",
    "y_val_pred = nn.predict(X_val)\n",
    "print(confusion_matrix(y_val, y_val_pred))\n",
    "print(f2_score(y_train, nn.predict(X_train)))\n",
    "print(f2_score(y_val, y_val_pred))"
   ]
  },
  {
   "cell_type": "markdown",
   "metadata": {
    "id": "-qhHmPyka9b3"
   },
   "source": [
    "# Phase 3"
   ]
  },
  {
   "cell_type": "code",
   "execution_count": 15,
   "metadata": {
    "colab": {
     "base_uri": "https://localhost:8080/"
    },
    "executionInfo": {
     "elapsed": 21963,
     "status": "ok",
     "timestamp": 1658284773632,
     "user": {
      "displayName": "Nhật Minh Hoàng Trần",
      "userId": "17860532926939693584"
     },
     "user_tz": -420
    },
    "id": "ZLol2sBha8hZ",
    "outputId": "cba098c0-8300-4dd9-94da-934a94234005"
   },
   "outputs": [
    {
     "name": "stdout",
     "output_type": "stream",
     "text": [
      "[[392 124]\n",
      " [ 42  24]]\n",
      "0.837202147891263\n",
      "0.2912621359223301\n"
     ]
    },
    {
     "name": "stderr",
     "output_type": "stream",
     "text": [
      "/usr/local/lib/python3.7/dist-packages/sklearn/neural_network/_multilayer_perceptron.py:696: ConvergenceWarning: Stochastic Optimizer: Maximum iterations (300) reached and the optimization hasn't converged yet.\n",
      "  ConvergenceWarning,\n"
     ]
    }
   ],
   "source": [
    "nn = MLPClassifier(\n",
    "    hidden_layer_sizes=(32, 16),\n",
    "    alpha=0.0001,\n",
    "    batch_size=300, max_iter=300,\n",
    "    tol=0.0001,\n",
    "    random_state=RANDOM_STATE,\n",
    ").fit(X_train, y_train)\n",
    "y_val_pred = nn.predict(X_val)\n",
    "print(confusion_matrix(y_val, y_val_pred))\n",
    "print(f2_score(y_train, nn.predict(X_train)))\n",
    "print(f2_score(y_val, y_val_pred))"
   ]
  },
  {
   "cell_type": "markdown",
   "metadata": {
    "id": "c4BKteLXbkvQ"
   },
   "source": [
    "# Phase 4"
   ]
  },
  {
   "cell_type": "code",
   "execution_count": 16,
   "metadata": {
    "colab": {
     "base_uri": "https://localhost:8080/"
    },
    "executionInfo": {
     "elapsed": 14596,
     "status": "ok",
     "timestamp": 1658284788217,
     "user": {
      "displayName": "Nhật Minh Hoàng Trần",
      "userId": "17860532926939693584"
     },
     "user_tz": -420
    },
    "id": "onhx8_l9blux",
    "outputId": "d1d3150f-22c5-433b-a9e7-456d675409f9"
   },
   "outputs": [
    {
     "name": "stdout",
     "output_type": "stream",
     "text": [
      "[[375 141]\n",
      " [ 40  26]]\n",
      "0.8385153517294984\n",
      "0.3016241299303944\n"
     ]
    }
   ],
   "source": [
    "nn = MLPClassifier(\n",
    "    hidden_layer_sizes=(32, 16),\n",
    "    alpha=0.0001,\n",
    "    batch_size='auto',\n",
    "    tol=0.001,\n",
    "    random_state=RANDOM_STATE,\n",
    ").fit(X_train, y_train)\n",
    "y_val_pred = nn.predict(X_val)\n",
    "print(confusion_matrix(y_val, y_val_pred))\n",
    "print(f2_score(y_train, nn.predict(X_train)))\n",
    "print(f2_score(y_val, y_val_pred))"
   ]
  },
  {
   "cell_type": "code",
   "execution_count": 17,
   "metadata": {
    "colab": {
     "base_uri": "https://localhost:8080/"
    },
    "executionInfo": {
     "elapsed": 18644,
     "status": "ok",
     "timestamp": 1658284806850,
     "user": {
      "displayName": "Nhật Minh Hoàng Trần",
      "userId": "17860532926939693584"
     },
     "user_tz": -420
    },
    "id": "Onynox6ebufp",
    "outputId": "6a631898-522c-4d58-a007-efda91353763"
   },
   "outputs": [
    {
     "name": "stdout",
     "output_type": "stream",
     "text": [
      "[[363 153]\n",
      " [ 36  30]]\n",
      "0.868910782703886\n",
      "0.33557046979865773\n"
     ]
    },
    {
     "name": "stderr",
     "output_type": "stream",
     "text": [
      "/usr/local/lib/python3.7/dist-packages/sklearn/neural_network/_multilayer_perceptron.py:696: ConvergenceWarning: Stochastic Optimizer: Maximum iterations (200) reached and the optimization hasn't converged yet.\n",
      "  ConvergenceWarning,\n"
     ]
    }
   ],
   "source": [
    "nn = MLPClassifier(\n",
    "    hidden_layer_sizes=(32, 16),\n",
    "    alpha=0.0001,\n",
    "    batch_size='auto',\n",
    "    tol=0.00001,\n",
    "    random_state=RANDOM_STATE,\n",
    ").fit(X_train, y_train)\n",
    "y_val_pred = nn.predict(X_val)\n",
    "print(confusion_matrix(y_val, y_val_pred))\n",
    "print(f2_score(y_train, nn.predict(X_train)))\n",
    "print(f2_score(y_val, y_val_pred))"
   ]
  },
  {
   "cell_type": "markdown",
   "metadata": {
    "id": "gjcMeqQAf9Vn"
   },
   "source": [
    "# Phase 5.1"
   ]
  },
  {
   "cell_type": "code",
   "execution_count": 18,
   "metadata": {
    "colab": {
     "base_uri": "https://localhost:8080/"
    },
    "executionInfo": {
     "elapsed": 21362,
     "status": "ok",
     "timestamp": 1658285222105,
     "user": {
      "displayName": "Nhật Minh Hoàng Trần",
      "userId": "17860532926939693584"
     },
     "user_tz": -420
    },
    "id": "jlof_1Tff9KW",
    "outputId": "650355bc-9671-48f2-c7ca-a20452877462"
   },
   "outputs": [
    {
     "name": "stdout",
     "output_type": "stream",
     "text": [
      "[[373 143]\n",
      " [ 40  26]]\n",
      "0.844616197280992\n",
      "0.3002309468822171\n"
     ]
    },
    {
     "name": "stderr",
     "output_type": "stream",
     "text": [
      "/usr/local/lib/python3.7/dist-packages/sklearn/neural_network/_multilayer_perceptron.py:696: ConvergenceWarning: Stochastic Optimizer: Maximum iterations (200) reached and the optimization hasn't converged yet.\n",
      "  ConvergenceWarning,\n"
     ]
    }
   ],
   "source": [
    "nn = MLPClassifier(\n",
    "    hidden_layer_sizes=(32, 16, 8),\n",
    "    alpha=0.001,\n",
    "    batch_size='auto',\n",
    "    tol=0.0001,\n",
    "    random_state=RANDOM_STATE,\n",
    ").fit(X_train, y_train)\n",
    "y_val_pred = nn.predict(X_val)\n",
    "print(confusion_matrix(y_val, y_val_pred))\n",
    "print(f2_score(y_train, nn.predict(X_train)))\n",
    "print(f2_score(y_val, y_val_pred))"
   ]
  },
  {
   "cell_type": "code",
   "execution_count": 19,
   "metadata": {
    "colab": {
     "base_uri": "https://localhost:8080/"
    },
    "executionInfo": {
     "elapsed": 21633,
     "status": "ok",
     "timestamp": 1658285252953,
     "user": {
      "displayName": "Nhật Minh Hoàng Trần",
      "userId": "17860532926939693584"
     },
     "user_tz": -420
    },
    "id": "7X9RyYEtgIJd",
    "outputId": "b2bcbe80-54b5-4315-cfd1-90d7bcdec212"
   },
   "outputs": [
    {
     "name": "stdout",
     "output_type": "stream",
     "text": [
      "[[397 119]\n",
      " [ 43  23]]\n",
      "0.8357393132445688\n",
      "0.2832512315270936\n"
     ]
    },
    {
     "name": "stderr",
     "output_type": "stream",
     "text": [
      "/usr/local/lib/python3.7/dist-packages/sklearn/neural_network/_multilayer_perceptron.py:696: ConvergenceWarning: Stochastic Optimizer: Maximum iterations (200) reached and the optimization hasn't converged yet.\n",
      "  ConvergenceWarning,\n"
     ]
    }
   ],
   "source": [
    "nn = MLPClassifier(\n",
    "    hidden_layer_sizes=(32, 16, 8),\n",
    "    alpha=0.01,\n",
    "    batch_size='auto',\n",
    "    tol=0.0001,\n",
    "    random_state=RANDOM_STATE,\n",
    ").fit(X_train, y_train)\n",
    "y_val_pred = nn.predict(X_val)\n",
    "print(confusion_matrix(y_val, y_val_pred))\n",
    "print(f2_score(y_train, nn.predict(X_train)))\n",
    "print(f2_score(y_val, y_val_pred))"
   ]
  },
  {
   "cell_type": "markdown",
   "metadata": {
    "id": "MvmbdOULg3LI"
   },
   "source": [
    "# Phase 5.2"
   ]
  },
  {
   "cell_type": "code",
   "execution_count": 20,
   "metadata": {
    "colab": {
     "base_uri": "https://localhost:8080/"
    },
    "executionInfo": {
     "elapsed": 25412,
     "status": "ok",
     "timestamp": 1658285466373,
     "user": {
      "displayName": "Nhật Minh Hoàng Trần",
      "userId": "17860532926939693584"
     },
     "user_tz": -420
    },
    "id": "QNw61FQ7g50h",
    "outputId": "3a3b74af-616f-4e4d-ee08-2c4be42f8d82"
   },
   "outputs": [
    {
     "name": "stdout",
     "output_type": "stream",
     "text": [
      "[[370 146]\n",
      " [ 43  23]]\n",
      "0.9321964079749547\n",
      "0.2655889145496536\n"
     ]
    },
    {
     "name": "stderr",
     "output_type": "stream",
     "text": [
      "/usr/local/lib/python3.7/dist-packages/sklearn/neural_network/_multilayer_perceptron.py:696: ConvergenceWarning: Stochastic Optimizer: Maximum iterations (200) reached and the optimization hasn't converged yet.\n",
      "  ConvergenceWarning,\n"
     ]
    }
   ],
   "source": [
    "nn = MLPClassifier(\n",
    "    hidden_layer_sizes=(64, 32),\n",
    "    alpha=0.0001,\n",
    "    batch_size='auto',\n",
    "    tol=0.0001,\n",
    "    random_state=RANDOM_STATE,\n",
    ").fit(X_train, y_train)\n",
    "y_val_pred = nn.predict(X_val)\n",
    "print(confusion_matrix(y_val, y_val_pred))\n",
    "print(f2_score(y_train, nn.predict(X_train)))\n",
    "print(f2_score(y_val, y_val_pred))"
   ]
  },
  {
   "cell_type": "code",
   "execution_count": 21,
   "metadata": {
    "colab": {
     "base_uri": "https://localhost:8080/"
    },
    "executionInfo": {
     "elapsed": 25935,
     "status": "ok",
     "timestamp": 1658285504728,
     "user": {
      "displayName": "Nhật Minh Hoàng Trần",
      "userId": "17860532926939693584"
     },
     "user_tz": -420
    },
    "id": "gSuQ8NM1hDu-",
    "outputId": "da07bb02-dc9b-441d-b612-69fd91c300ff"
   },
   "outputs": [
    {
     "name": "stdout",
     "output_type": "stream",
     "text": [
      "[[370 146]\n",
      " [ 44  22]]\n",
      "0.9305837772530066\n",
      "0.2546296296296296\n"
     ]
    },
    {
     "name": "stderr",
     "output_type": "stream",
     "text": [
      "/usr/local/lib/python3.7/dist-packages/sklearn/neural_network/_multilayer_perceptron.py:696: ConvergenceWarning: Stochastic Optimizer: Maximum iterations (200) reached and the optimization hasn't converged yet.\n",
      "  ConvergenceWarning,\n"
     ]
    }
   ],
   "source": [
    "nn = MLPClassifier(\n",
    "    hidden_layer_sizes=(64, 32),\n",
    "    alpha=0.001,\n",
    "    batch_size='auto',\n",
    "    tol=0.0001,\n",
    "    random_state=RANDOM_STATE,\n",
    ").fit(X_train, y_train)\n",
    "y_val_pred = nn.predict(X_val)\n",
    "print(confusion_matrix(y_val, y_val_pred))\n",
    "print(f2_score(y_train, nn.predict(X_train)))\n",
    "print(f2_score(y_val, y_val_pred))"
   ]
  },
  {
   "cell_type": "markdown",
   "metadata": {
    "id": "4TWb6ixPhwFZ"
   },
   "source": [
    "# Phase 5.3"
   ]
  },
  {
   "cell_type": "code",
   "execution_count": 22,
   "metadata": {
    "colab": {
     "base_uri": "https://localhost:8080/"
    },
    "executionInfo": {
     "elapsed": 33386,
     "status": "ok",
     "timestamp": 1658285741779,
     "user": {
      "displayName": "Nhật Minh Hoàng Trần",
      "userId": "17860532926939693584"
     },
     "user_tz": -420
    },
    "id": "2TfZp7KBh0cJ",
    "outputId": "3d1157cd-242f-4350-8b4a-a42138a00dc6"
   },
   "outputs": [
    {
     "name": "stdout",
     "output_type": "stream",
     "text": [
      "[[385 131]\n",
      " [ 46  20]]\n",
      "0.8115451798042533\n",
      "0.24096385542168677\n"
     ]
    }
   ],
   "source": [
    "nn = MLPClassifier(\n",
    "    hidden_layer_sizes=(256, 128),\n",
    "    alpha=1,\n",
    "    batch_size='auto',\n",
    "    tol=0.0001,\n",
    "    random_state=RANDOM_STATE,\n",
    ").fit(X_train, y_train)\n",
    "y_val_pred = nn.predict(X_val)\n",
    "print(confusion_matrix(y_val, y_val_pred))\n",
    "print(f2_score(y_train, nn.predict(X_train)))\n",
    "print(f2_score(y_val, y_val_pred))"
   ]
  },
  {
   "cell_type": "markdown",
   "metadata": {
    "id": "jiMJHKyuiLKY"
   },
   "source": [
    "# Phase 6"
   ]
  },
  {
   "cell_type": "code",
   "execution_count": 23,
   "metadata": {
    "colab": {
     "base_uri": "https://localhost:8080/"
    },
    "executionInfo": {
     "elapsed": 53943,
     "status": "ok",
     "timestamp": 1658285836173,
     "user": {
      "displayName": "Nhật Minh Hoàng Trần",
      "userId": "17860532926939693584"
     },
     "user_tz": -420
    },
    "id": "7IsGX6FAiNKo",
    "outputId": "1b70d5f4-dafd-49b9-eb88-f4e5196c8108"
   },
   "outputs": [
    {
     "name": "stdout",
     "output_type": "stream",
     "text": [
      "[[334 182]\n",
      " [ 43  23]]\n",
      "0.7568519327364052\n",
      "0.24520255863539447\n"
     ]
    }
   ],
   "source": [
    "nn = MLPClassifier(\n",
    "    hidden_layer_sizes=(1000,),\n",
    "    alpha=1,\n",
    "    batch_size='auto',\n",
    "    tol=0.0001,\n",
    "    random_state=RANDOM_STATE,\n",
    ").fit(X_train, y_train)\n",
    "y_val_pred = nn.predict(X_val)\n",
    "print(confusion_matrix(y_val, y_val_pred))\n",
    "print(f2_score(y_train, nn.predict(X_train)))\n",
    "print(f2_score(y_val, y_val_pred))"
   ]
  },
  {
   "cell_type": "code",
   "execution_count": 24,
   "metadata": {
    "colab": {
     "base_uri": "https://localhost:8080/"
    },
    "executionInfo": {
     "elapsed": 18532,
     "status": "ok",
     "timestamp": 1658285867162,
     "user": {
      "displayName": "Nhật Minh Hoàng Trần",
      "userId": "17860532926939693584"
     },
     "user_tz": -420
    },
    "id": "OknxqpE4iehe",
    "outputId": "73f38904-6117-4cb9-f184-529f675f8fda"
   },
   "outputs": [
    {
     "name": "stdout",
     "output_type": "stream",
     "text": [
      "[[299 217]\n",
      " [ 33  33]]\n",
      "0.692255062944718\n",
      "0.321011673151751\n"
     ]
    }
   ],
   "source": [
    "nn = MLPClassifier(\n",
    "    hidden_layer_sizes=(1000,),\n",
    "    alpha=5,\n",
    "    batch_size='auto',\n",
    "    tol=0.0001,\n",
    "    random_state=RANDOM_STATE,\n",
    ").fit(X_train, y_train)\n",
    "y_val_pred = nn.predict(X_val)\n",
    "print(confusion_matrix(y_val, y_val_pred))\n",
    "print(f2_score(y_train, nn.predict(X_train)))\n",
    "print(f2_score(y_val, y_val_pred))"
   ]
  },
  {
   "cell_type": "code",
   "execution_count": 25,
   "metadata": {
    "colab": {
     "base_uri": "https://localhost:8080/"
    },
    "executionInfo": {
     "elapsed": 18994,
     "status": "ok",
     "timestamp": 1658285900566,
     "user": {
      "displayName": "Nhật Minh Hoàng Trần",
      "userId": "17860532926939693584"
     },
     "user_tz": -420
    },
    "id": "Sn9tpb32imzG",
    "outputId": "54f411fe-ce64-4172-f6b4-a996076c8671"
   },
   "outputs": [
    {
     "name": "stdout",
     "output_type": "stream",
     "text": [
      "[[300 216]\n",
      " [ 35  31]]\n",
      "0.6951922814114302\n",
      "0.30332681017612523\n"
     ]
    }
   ],
   "source": [
    "nn = MLPClassifier(\n",
    "    hidden_layer_sizes=(1000,),\n",
    "    alpha=4,\n",
    "    batch_size='auto',\n",
    "    tol=0.0001,\n",
    "    random_state=RANDOM_STATE,\n",
    ").fit(X_train, y_train)\n",
    "y_val_pred = nn.predict(X_val)\n",
    "print(confusion_matrix(y_val, y_val_pred))\n",
    "print(f2_score(y_train, nn.predict(X_train)))\n",
    "print(f2_score(y_val, y_val_pred))"
   ]
  },
  {
   "cell_type": "markdown",
   "metadata": {
    "id": "8cnvRP2ljKvx"
   },
   "source": [
    "# Phase 7"
   ]
  },
  {
   "cell_type": "code",
   "execution_count": 30,
   "metadata": {
    "colab": {
     "base_uri": "https://localhost:8080/"
    },
    "executionInfo": {
     "elapsed": 4279,
     "status": "ok",
     "timestamp": 1658286468426,
     "user": {
      "displayName": "Nhật Minh Hoàng Trần",
      "userId": "17860532926939693584"
     },
     "user_tz": -420
    },
    "id": "LSsdlISYjiED",
    "outputId": "85e7b787-4fa5-4084-83a4-825a22e28343"
   },
   "outputs": [
    {
     "name": "stdout",
     "output_type": "stream",
     "text": [
      "[[303 213]\n",
      " [ 36  30]]\n",
      "0.6973720229947987\n",
      "0.2958579881656805\n"
     ]
    }
   ],
   "source": [
    "nn = MLPClassifier(\n",
    "    hidden_layer_sizes=(32, 16),\n",
    "    alpha=5,\n",
    "    batch_size='auto',\n",
    "    tol=0.0001,\n",
    "    random_state=RANDOM_STATE,\n",
    ").fit(X_train, y_train)\n",
    "y_val_pred = nn.predict(X_val)\n",
    "print(confusion_matrix(y_val, y_val_pred))\n",
    "print(f2_score(y_train, nn.predict(X_train)))\n",
    "print(f2_score(y_val, y_val_pred))"
   ]
  },
  {
   "cell_type": "code",
   "execution_count": 27,
   "metadata": {
    "colab": {
     "base_uri": "https://localhost:8080/"
    },
    "executionInfo": {
     "elapsed": 6915,
     "status": "ok",
     "timestamp": 1658286148110,
     "user": {
      "displayName": "Nhật Minh Hoàng Trần",
      "userId": "17860532926939693584"
     },
     "user_tz": -420
    },
    "id": "Kp5L27VvjmHA",
    "outputId": "3a5b5c8d-ff51-419b-a935-f45de663930b"
   },
   "outputs": [
    {
     "name": "stdout",
     "output_type": "stream",
     "text": [
      "[[310 206]\n",
      " [ 41  25]]\n",
      "0.7191284616856666\n",
      "0.25252525252525254\n"
     ]
    }
   ],
   "source": [
    "nn = MLPClassifier(\n",
    "    hidden_layer_sizes=(32, 16),\n",
    "    alpha=3,\n",
    "    batch_size='auto',\n",
    "    tol=0.0001,\n",
    "    random_state=RANDOM_STATE,\n",
    ").fit(X_train, y_train)\n",
    "y_val_pred = nn.predict(X_val)\n",
    "print(confusion_matrix(y_val, y_val_pred))\n",
    "print(f2_score(y_train, nn.predict(X_train)))\n",
    "print(f2_score(y_val, y_val_pred))"
   ]
  },
  {
   "cell_type": "code",
   "execution_count": 28,
   "metadata": {
    "colab": {
     "base_uri": "https://localhost:8080/"
    },
    "executionInfo": {
     "elapsed": 8465,
     "status": "ok",
     "timestamp": 1658286279629,
     "user": {
      "displayName": "Nhật Minh Hoàng Trần",
      "userId": "17860532926939693584"
     },
     "user_tz": -420
    },
    "id": "PpLVI4eakFwz",
    "outputId": "a99a5daf-2410-410d-c310-946352625dbe"
   },
   "outputs": [
    {
     "name": "stdout",
     "output_type": "stream",
     "text": [
      "[[338 178]\n",
      " [ 44  22]]\n",
      "0.7286772428279256\n",
      "0.2370689655172414\n"
     ]
    }
   ],
   "source": [
    "nn = MLPClassifier(\n",
    "    hidden_layer_sizes=(32, 16),\n",
    "    alpha=2,\n",
    "    batch_size='auto',\n",
    "    tol=0.0001,\n",
    "    random_state=RANDOM_STATE,\n",
    ").fit(X_train, y_train)\n",
    "y_val_pred = nn.predict(X_val)\n",
    "print(confusion_matrix(y_val, y_val_pred))\n",
    "print(f2_score(y_train, nn.predict(X_train)))\n",
    "print(f2_score(y_val, y_val_pred))"
   ]
  },
  {
   "cell_type": "code",
   "execution_count": 29,
   "metadata": {
    "colab": {
     "base_uri": "https://localhost:8080/"
    },
    "executionInfo": {
     "elapsed": 3607,
     "status": "ok",
     "timestamp": 1658286300743,
     "user": {
      "displayName": "Nhật Minh Hoàng Trần",
      "userId": "17860532926939693584"
     },
     "user_tz": -420
    },
    "id": "NrS3tHFhkMGB",
    "outputId": "4144135a-4d26-40b5-fec6-d67babc72327"
   },
   "outputs": [
    {
     "name": "stdout",
     "output_type": "stream",
     "text": [
      "[[345 171]\n",
      " [ 37  29]]\n",
      "0.6349675132900177\n",
      "0.3125\n"
     ]
    }
   ],
   "source": [
    "nn = MLPClassifier(\n",
    "    hidden_layer_sizes=(32, 16),\n",
    "    alpha=7,\n",
    "    batch_size='auto',\n",
    "    tol=0.0001,\n",
    "    random_state=RANDOM_STATE,\n",
    ").fit(X_train, y_train)\n",
    "y_val_pred = nn.predict(X_val)\n",
    "print(confusion_matrix(y_val, y_val_pred))\n",
    "print(f2_score(y_train, nn.predict(X_train)))\n",
    "print(f2_score(y_val, y_val_pred))"
   ]
  }
 ],
 "metadata": {
  "colab": {
   "authorship_tag": "ABX9TyPpnd3CN4CB7FuxB33xKTEa",
   "collapsed_sections": [],
   "mount_file_id": "1eK9ucdnqH204VLABVt908eL-SO2zf1eC",
   "name": "nn.ipynb",
   "provenance": [],
   "toc_visible": true
  },
  "kernelspec": {
   "display_name": "Python 3",
   "language": "python",
   "name": "python3"
  },
  "language_info": {
   "codemirror_mode": {
    "name": "ipython",
    "version": 3
   },
   "file_extension": ".py",
   "mimetype": "text/x-python",
   "name": "python",
   "nbconvert_exporter": "python",
   "pygments_lexer": "ipython3",
   "version": "3.8.8"
  }
 },
 "nbformat": 4,
 "nbformat_minor": 1
}
