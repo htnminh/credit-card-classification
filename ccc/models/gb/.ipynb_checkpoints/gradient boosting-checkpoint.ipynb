{
 "cells": [
  {
   "cell_type": "markdown",
   "metadata": {
    "id": "1VPcLip_kQzZ"
   },
   "source": [
    "# Preparation"
   ]
  },
  {
   "cell_type": "code",
   "execution_count": 30,
   "metadata": {
    "executionInfo": {
     "elapsed": 342,
     "status": "ok",
     "timestamp": 1658280062256,
     "user": {
      "displayName": "Nhật Minh Hoàng Trần",
      "userId": "17860532926939693584"
     },
     "user_tz": -420
    },
    "id": "FEcei-o0bMbk"
   },
   "outputs": [],
   "source": [
    "import os\n",
    "\n",
    "import pandas as pd\n",
    "import numpy as np\n",
    "\n",
    "import matplotlib.pyplot as plt\n",
    "\n",
    "from sklearn.experimental import enable_halving_search_cv\n",
    "from sklearn.model_selection import HalvingGridSearchCV\n",
    "from sklearn.model_selection import train_test_split\n",
    "from sklearn.ensemble import GradientBoostingClassifier\n",
    "from sklearn.metrics import fbeta_score\n",
    "from sklearn.metrics import make_scorer\n",
    "from sklearn.metrics import confusion_matrix\n",
    "from sklearn.metrics import classification_report"
   ]
  },
  {
   "cell_type": "code",
   "execution_count": 31,
   "metadata": {
    "executionInfo": {
     "elapsed": 529,
     "status": "ok",
     "timestamp": 1658280063140,
     "user": {
      "displayName": "Nhật Minh Hoàng Trần",
      "userId": "17860532926939693584"
     },
     "user_tz": -420
    },
    "id": "6kf8Ols9axlp"
   },
   "outputs": [],
   "source": [
    "DIR_PATH = \"/content/drive/MyDrive/Colab Notebooks/ML CCC\"\n",
    "\n",
    "RANDOM_STATE = 42"
   ]
  },
  {
   "cell_type": "code",
   "execution_count": 32,
   "metadata": {
    "executionInfo": {
     "elapsed": 4,
     "status": "ok",
     "timestamp": 1658280063141,
     "user": {
      "displayName": "Nhật Minh Hoàng Trần",
      "userId": "17860532926939693584"
     },
     "user_tz": -420
    },
    "id": "njopzynfgpnh"
   },
   "outputs": [],
   "source": [
    "f2_score = lambda y_test, y_pred: fbeta_score(y_test, y_pred, beta=2)\n",
    "f2_scorer = make_scorer(fbeta_score, beta=2)"
   ]
  },
  {
   "cell_type": "code",
   "execution_count": 33,
   "metadata": {
    "executionInfo": {
     "elapsed": 4,
     "status": "ok",
     "timestamp": 1658280063141,
     "user": {
      "displayName": "Nhật Minh Hoàng Trần",
      "userId": "17860532926939693584"
     },
     "user_tz": -420
    },
    "id": "87DftqOGbPID"
   },
   "outputs": [],
   "source": [
    "X_train = pd.read_csv(os.path.join(DIR_PATH, 'X_train_prep.csv')) \n",
    "X_test = pd.read_csv(os.path.join(DIR_PATH, 'X_test_prep.csv'))\n",
    "y_train = pd.read_csv(os.path.join(DIR_PATH, 'y_train_prep.csv'))\n",
    "y_test = pd.read_csv(os.path.join(DIR_PATH, 'y_test_prep.csv'))"
   ]
  },
  {
   "cell_type": "code",
   "execution_count": 34,
   "metadata": {
    "executionInfo": {
     "elapsed": 4,
     "status": "ok",
     "timestamp": 1658280063141,
     "user": {
      "displayName": "Nhật Minh Hoàng Trần",
      "userId": "17860532926939693584"
     },
     "user_tz": -420
    },
    "id": "JWaqlmuCbU5k"
   },
   "outputs": [],
   "source": [
    "y_train = y_train.to_numpy().ravel()\n",
    "y_test = y_test.to_numpy().ravel()"
   ]
  },
  {
   "cell_type": "code",
   "execution_count": 35,
   "metadata": {
    "executionInfo": {
     "elapsed": 3,
     "status": "ok",
     "timestamp": 1658280063141,
     "user": {
      "displayName": "Nhật Minh Hoàng Trần",
      "userId": "17860532926939693584"
     },
     "user_tz": -420
    },
    "id": "kcVLVYvHyGBP"
   },
   "outputs": [],
   "source": [
    "def plot_search_results(searcher):\n",
    "    # https://scikit-learn.org/stable/auto_examples/model_selection/plot_successive_halving_iterations.html\n",
    "    \n",
    "    results = pd.DataFrame(searcher.cv_results_)\n",
    "    results[\"params_str\"] = results.params.apply(str)\n",
    "    results.drop_duplicates(subset=(\"params_str\", \"iter\"), inplace=True)\n",
    "    mean_scores = results.pivot(\n",
    "        index=\"iter\", columns=\"params_str\", values=\"mean_test_score\"\n",
    "    )\n",
    "    ax = mean_scores.plot(legend=False, alpha=0.6)\n",
    "\n",
    "    labels = [\n",
    "        f\"iter={i}\\nn_samples={searcher.n_resources_[i]}\\nn_candidates={searcher.n_candidates_[i]}\"\n",
    "        for i in range(searcher.n_iterations_)\n",
    "    ]\n",
    "\n",
    "    ax.set_xticks(range(searcher.n_iterations_))\n",
    "    ax.set_xticklabels(labels, rotation=45, multialignment=\"left\")\n",
    "    ax.set_title(\"Scores of candidates over iterations\")\n",
    "    ax.set_ylabel(\"mean test score\", fontsize=15)\n",
    "    ax.set_xlabel(\"iterations\", fontsize=15)\n",
    "    plt.tight_layout()\n",
    "    plt.show()\n"
   ]
  },
  {
   "cell_type": "markdown",
   "metadata": {
    "id": "1a_LD8sDGc_e"
   },
   "source": [
    "# Hand-tuning"
   ]
  },
  {
   "cell_type": "markdown",
   "metadata": {
    "id": "46Tw2lPPS7KJ"
   },
   "source": [
    "## Initialization"
   ]
  },
  {
   "cell_type": "code",
   "execution_count": 36,
   "metadata": {
    "executionInfo": {
     "elapsed": 4,
     "status": "ok",
     "timestamp": 1658280063142,
     "user": {
      "displayName": "Nhật Minh Hoàng Trần",
      "userId": "17860532926939693584"
     },
     "user_tz": -420
    },
    "id": "8iEy5SSdS6Xp"
   },
   "outputs": [],
   "source": [
    "X_val, X_test, y_val, y_test = train_test_split(\n",
    "    X_test, y_test, test_size=0.6,\n",
    "    random_state=RANDOM_STATE,\n",
    ")"
   ]
  },
  {
   "cell_type": "markdown",
   "metadata": {
    "id": "j2Re3bF7Gfe_"
   },
   "source": [
    "## Phase 1\n",
    "`learning_rate = 0.1 by default `"
   ]
  },
  {
   "cell_type": "code",
   "execution_count": 37,
   "metadata": {
    "colab": {
     "base_uri": "https://localhost:8080/"
    },
    "executionInfo": {
     "elapsed": 3352,
     "status": "ok",
     "timestamp": 1658280066490,
     "user": {
      "displayName": "Nhật Minh Hoàng Trần",
      "userId": "17860532926939693584"
     },
     "user_tz": -420
    },
    "id": "An9x94piGfBZ",
    "outputId": "4d306c3e-fd98-4e01-882d-b3dbd7ddb1dc"
   },
   "outputs": [
    {
     "name": "stdout",
     "output_type": "stream",
     "text": [
      "[[386 130]\n",
      " [ 50  16]]\n",
      "0.822957412814721\n",
      "0.19512195121951217\n"
     ]
    }
   ],
   "source": [
    "gb = GradientBoostingClassifier(\n",
    "    random_state=RANDOM_STATE\n",
    "    ).fit(X_train, y_train)\n",
    "y_val_pred = gb.predict(X_val)\n",
    "print(confusion_matrix(y_val, y_val_pred))\n",
    "print(f2_score(y_train, gb.predict(X_train)))\n",
    "print(f2_score(y_val, y_val_pred))"
   ]
  },
  {
   "cell_type": "code",
   "execution_count": 38,
   "metadata": {
    "colab": {
     "base_uri": "https://localhost:8080/"
    },
    "executionInfo": {
     "elapsed": 3107,
     "status": "ok",
     "timestamp": 1658280069594,
     "user": {
      "displayName": "Nhật Minh Hoàng Trần",
      "userId": "17860532926939693584"
     },
     "user_tz": -420
    },
    "id": "X6kp1iOuITo8",
    "outputId": "aac79905-18ef-4cf9-bc1b-f0634b4c2a38"
   },
   "outputs": [
    {
     "name": "stdout",
     "output_type": "stream",
     "text": [
      "[[243 273]\n",
      " [ 24  42]]\n",
      "0.7825770759201061\n",
      "0.36269430051813467\n"
     ]
    }
   ],
   "source": [
    "gb = GradientBoostingClassifier(\n",
    "    learning_rate=0.01,\n",
    "    random_state=RANDOM_STATE\n",
    "    ).fit(X_train, y_train)\n",
    "y_val_pred = gb.predict(X_val)\n",
    "print(confusion_matrix(y_val, y_val_pred))\n",
    "print(f2_score(y_train, gb.predict(X_train)))\n",
    "print(f2_score(y_val, y_val_pred))"
   ]
  },
  {
   "cell_type": "code",
   "execution_count": 39,
   "metadata": {
    "colab": {
     "base_uri": "https://localhost:8080/"
    },
    "executionInfo": {
     "elapsed": 3063,
     "status": "ok",
     "timestamp": 1658280072645,
     "user": {
      "displayName": "Nhật Minh Hoàng Trần",
      "userId": "17860532926939693584"
     },
     "user_tz": -420
    },
    "id": "j41ay6qkMtTP",
    "outputId": "de47a6b5-27a4-4977-a5bb-dca2f34edede"
   },
   "outputs": [
    {
     "name": "stdout",
     "output_type": "stream",
     "text": [
      "[[184 332]\n",
      " [ 16  50]]\n",
      "0.7920378619153674\n",
      "0.3869969040247678\n"
     ]
    }
   ],
   "source": [
    "gb = GradientBoostingClassifier(\n",
    "    learning_rate=0.001,\n",
    "    random_state=RANDOM_STATE\n",
    "    ).fit(X_train, y_train)\n",
    "y_val_pred = gb.predict(X_val)\n",
    "print(confusion_matrix(y_val, y_val_pred))\n",
    "print(f2_score(y_train, gb.predict(X_train)))\n",
    "print(f2_score(y_val, y_val_pred))"
   ]
  },
  {
   "cell_type": "code",
   "execution_count": 40,
   "metadata": {
    "colab": {
     "base_uri": "https://localhost:8080/"
    },
    "executionInfo": {
     "elapsed": 3514,
     "status": "ok",
     "timestamp": 1658280076157,
     "user": {
      "displayName": "Nhật Minh Hoàng Trần",
      "userId": "17860532926939693584"
     },
     "user_tz": -420
    },
    "id": "cJWmf69WNIsY",
    "outputId": "a5c6bb31-8cd5-4421-e07e-e411bf052a8c"
   },
   "outputs": [
    {
     "name": "stdout",
     "output_type": "stream",
     "text": [
      "[[247 269]\n",
      " [ 22  44]]\n",
      "0.7211601672407898\n",
      "0.38128249566724437\n"
     ]
    }
   ],
   "source": [
    "gb = GradientBoostingClassifier(\n",
    "    learning_rate=0.0001,\n",
    "    random_state=RANDOM_STATE\n",
    "    ).fit(X_train, y_train)\n",
    "y_val_pred = gb.predict(X_val)\n",
    "print(confusion_matrix(y_val, y_val_pred))\n",
    "print(f2_score(y_train, gb.predict(X_train)))\n",
    "print(f2_score(y_val, y_val_pred))"
   ]
  },
  {
   "cell_type": "code",
   "execution_count": 41,
   "metadata": {
    "colab": {
     "base_uri": "https://localhost:8080/"
    },
    "executionInfo": {
     "elapsed": 3128,
     "status": "ok",
     "timestamp": 1658280079283,
     "user": {
      "displayName": "Nhật Minh Hoàng Trần",
      "userId": "17860532926939693584"
     },
     "user_tz": -420
    },
    "id": "gCUNFtTWNPdw",
    "outputId": "84098f46-de72-4c22-bf13-75f13c451aeb"
   },
   "outputs": [
    {
     "name": "stdout",
     "output_type": "stream",
     "text": [
      "[[184 332]\n",
      " [ 16  50]]\n",
      "0.7920378619153674\n",
      "0.3869969040247678\n"
     ]
    }
   ],
   "source": [
    "gb = GradientBoostingClassifier(\n",
    "    learning_rate=0.00055,\n",
    "    random_state=RANDOM_STATE\n",
    "    ).fit(X_train, y_train)\n",
    "y_val_pred = gb.predict(X_val)\n",
    "print(confusion_matrix(y_val, y_val_pred))\n",
    "print(f2_score(y_train, gb.predict(X_train)))\n",
    "print(f2_score(y_val, y_val_pred))"
   ]
  },
  {
   "cell_type": "markdown",
   "metadata": {
    "id": "QUM-gC8XNh-6"
   },
   "source": [
    "## Phase 2\n",
    "from phase 1:\n",
    "```\n",
    "learning_rate=0.001\n",
    "(n_estimators=100 by default)\n",
    "```\n",
    "```\n",
    "[[184 332]\n",
    " [ 16  50]]\n",
    "0.7920378619153674\n",
    "0.3869969040247678\n",
    "```"
   ]
  },
  {
   "cell_type": "code",
   "execution_count": 42,
   "metadata": {
    "colab": {
     "base_uri": "https://localhost:8080/"
    },
    "executionInfo": {
     "elapsed": 9511,
     "status": "ok",
     "timestamp": 1658280088791,
     "user": {
      "displayName": "Nhật Minh Hoàng Trần",
      "userId": "17860532926939693584"
     },
     "user_tz": -420
    },
    "id": "QigBKNjXNmSi",
    "outputId": "a27be097-e178-457e-ae12-0b1bd0177275"
   },
   "outputs": [
    {
     "name": "stdout",
     "output_type": "stream",
     "text": [
      "[[202 314]\n",
      " [ 18  48]]\n",
      "0.7794992215217336\n",
      "0.38338658146964855\n"
     ]
    }
   ],
   "source": [
    "gb = GradientBoostingClassifier(\n",
    "    learning_rate=0.001,\n",
    "    n_estimators=150,\n",
    "    random_state=RANDOM_STATE\n",
    "    ).fit(X_train, y_train)\n",
    "y_val_pred = gb.predict(X_val)\n",
    "print(confusion_matrix(y_val, y_val_pred))\n",
    "print(f2_score(y_train, gb.predict(X_train)))\n",
    "print(f2_score(y_val, y_val_pred))"
   ]
  },
  {
   "cell_type": "code",
   "execution_count": 43,
   "metadata": {
    "colab": {
     "base_uri": "https://localhost:8080/"
    },
    "executionInfo": {
     "elapsed": 6399,
     "status": "ok",
     "timestamp": 1658280095188,
     "user": {
      "displayName": "Nhật Minh Hoàng Trần",
      "userId": "17860532926939693584"
     },
     "user_tz": -420
    },
    "id": "m2Mv2ptmOIpk",
    "outputId": "d2c78773-9eea-43f3-f71e-1b9ba2c8261a"
   },
   "outputs": [
    {
     "name": "stdout",
     "output_type": "stream",
     "text": [
      "[[218 298]\n",
      " [ 21  45]]\n",
      "0.7694984277540079\n",
      "0.37067545304777594\n"
     ]
    }
   ],
   "source": [
    "gb = GradientBoostingClassifier(\n",
    "    learning_rate=0.001,\n",
    "    n_estimators=200,\n",
    "    random_state=RANDOM_STATE\n",
    "    ).fit(X_train, y_train)\n",
    "y_val_pred = gb.predict(X_val)\n",
    "print(confusion_matrix(y_val, y_val_pred))\n",
    "print(f2_score(y_train, gb.predict(X_train)))\n",
    "print(f2_score(y_val, y_val_pred))"
   ]
  },
  {
   "cell_type": "code",
   "execution_count": 44,
   "metadata": {
    "colab": {
     "base_uri": "https://localhost:8080/"
    },
    "executionInfo": {
     "elapsed": 3843,
     "status": "ok",
     "timestamp": 1658280099029,
     "user": {
      "displayName": "Nhật Minh Hoàng Trần",
      "userId": "17860532926939693584"
     },
     "user_tz": -420
    },
    "id": "OP446TneOOQD",
    "outputId": "f4f24f0e-f493-4a26-f05b-674d0d0345a9"
   },
   "outputs": [
    {
     "name": "stdout",
     "output_type": "stream",
     "text": [
      "[[202 314]\n",
      " [ 18  48]]\n",
      "0.7794992215217336\n",
      "0.38338658146964855\n"
     ]
    }
   ],
   "source": [
    "gb = GradientBoostingClassifier(\n",
    "    learning_rate=0.001,\n",
    "    n_estimators=120,\n",
    "    random_state=RANDOM_STATE\n",
    "    ).fit(X_train, y_train)\n",
    "y_val_pred = gb.predict(X_val)\n",
    "print(confusion_matrix(y_val, y_val_pred))\n",
    "print(f2_score(y_train, gb.predict(X_train)))\n",
    "print(f2_score(y_val, y_val_pred))"
   ]
  },
  {
   "cell_type": "code",
   "execution_count": 45,
   "metadata": {
    "colab": {
     "base_uri": "https://localhost:8080/"
    },
    "executionInfo": {
     "elapsed": 2598,
     "status": "ok",
     "timestamp": 1658280101625,
     "user": {
      "displayName": "Nhật Minh Hoàng Trần",
      "userId": "17860532926939693584"
     },
     "user_tz": -420
    },
    "id": "IdX_gtPXOfAg",
    "outputId": "8473a2a1-137d-44ce-c098-09b37cff1249"
   },
   "outputs": [
    {
     "name": "stdout",
     "output_type": "stream",
     "text": [
      "[[184 332]\n",
      " [ 16  50]]\n",
      "0.7920378619153674\n",
      "0.3869969040247678\n"
     ]
    }
   ],
   "source": [
    "gb = GradientBoostingClassifier(\n",
    "    learning_rate=0.001,\n",
    "    n_estimators=80,\n",
    "    random_state=RANDOM_STATE\n",
    "    ).fit(X_train, y_train)\n",
    "y_val_pred = gb.predict(X_val)\n",
    "print(confusion_matrix(y_val, y_val_pred))\n",
    "print(f2_score(y_train, gb.predict(X_train)))\n",
    "print(f2_score(y_val, y_val_pred))"
   ]
  },
  {
   "cell_type": "code",
   "execution_count": 46,
   "metadata": {
    "colab": {
     "base_uri": "https://localhost:8080/"
    },
    "executionInfo": {
     "elapsed": 1986,
     "status": "ok",
     "timestamp": 1658280103589,
     "user": {
      "displayName": "Nhật Minh Hoàng Trần",
      "userId": "17860532926939693584"
     },
     "user_tz": -420
    },
    "id": "gSY1eUoKOkFI",
    "outputId": "25072ef8-3961-4b68-fc8f-685f77363f7e"
   },
   "outputs": [
    {
     "name": "stdout",
     "output_type": "stream",
     "text": [
      "[[184 332]\n",
      " [ 16  50]]\n",
      "0.7920378619153674\n",
      "0.3869969040247678\n"
     ]
    }
   ],
   "source": [
    "gb = GradientBoostingClassifier(\n",
    "    learning_rate=0.001,\n",
    "    n_estimators=60,\n",
    "    random_state=RANDOM_STATE\n",
    "    ).fit(X_train, y_train)\n",
    "y_val_pred = gb.predict(X_val)\n",
    "print(confusion_matrix(y_val, y_val_pred))\n",
    "print(f2_score(y_train, gb.predict(X_train)))\n",
    "print(f2_score(y_val, y_val_pred))"
   ]
  },
  {
   "cell_type": "code",
   "execution_count": 47,
   "metadata": {
    "colab": {
     "base_uri": "https://localhost:8080/"
    },
    "executionInfo": {
     "elapsed": 1278,
     "status": "ok",
     "timestamp": 1658280104865,
     "user": {
      "displayName": "Nhật Minh Hoàng Trần",
      "userId": "17860532926939693584"
     },
     "user_tz": -420
    },
    "id": "QTsOvAc7OpD9",
    "outputId": "89d58ae1-f35e-41f3-b916-af769bccbf3e"
   },
   "outputs": [
    {
     "name": "stdout",
     "output_type": "stream",
     "text": [
      "[[184 332]\n",
      " [ 16  50]]\n",
      "0.7938475549596499\n",
      "0.3869969040247678\n"
     ]
    }
   ],
   "source": [
    "gb = GradientBoostingClassifier(\n",
    "    learning_rate=0.001,\n",
    "    n_estimators=40,\n",
    "    random_state=RANDOM_STATE\n",
    "    ).fit(X_train, y_train)\n",
    "y_val_pred = gb.predict(X_val)\n",
    "print(confusion_matrix(y_val, y_val_pred))\n",
    "print(f2_score(y_train, gb.predict(X_train)))\n",
    "print(f2_score(y_val, y_val_pred))"
   ]
  },
  {
   "cell_type": "code",
   "execution_count": 48,
   "metadata": {
    "colab": {
     "base_uri": "https://localhost:8080/"
    },
    "executionInfo": {
     "elapsed": 749,
     "status": "ok",
     "timestamp": 1658280105613,
     "user": {
      "displayName": "Nhật Minh Hoàng Trần",
      "userId": "17860532926939693584"
     },
     "user_tz": -420
    },
    "id": "BI2FNobvOsHl",
    "outputId": "5be3600d-2479-4fb1-ed26-4b054670ef96"
   },
   "outputs": [
    {
     "name": "stdout",
     "output_type": "stream",
     "text": [
      "[[184 332]\n",
      " [ 16  50]]\n",
      "0.7888404842713135\n",
      "0.3869969040247678\n"
     ]
    }
   ],
   "source": [
    "gb = GradientBoostingClassifier(\n",
    "    learning_rate=0.001,\n",
    "    n_estimators=20,\n",
    "    random_state=RANDOM_STATE\n",
    "    ).fit(X_train, y_train)\n",
    "y_val_pred = gb.predict(X_val)\n",
    "print(confusion_matrix(y_val, y_val_pred))\n",
    "print(f2_score(y_train, gb.predict(X_train)))\n",
    "print(f2_score(y_val, y_val_pred))"
   ]
  },
  {
   "cell_type": "markdown",
   "metadata": {
    "id": "SrERdO7NO1Su"
   },
   "source": [
    "## Phase 3\n",
    "```\n",
    "learning_rate=0.001,\n",
    "n_estimators=40\n",
    "(max_depth=3 by default)\n",
    "```\n",
    "\n",
    "```\n",
    "[[184 332]\n",
    " [ 16  50]]\n",
    "0.7938475549596499\n",
    "0.3869969040247678\n",
    "```"
   ]
  },
  {
   "cell_type": "code",
   "execution_count": 50,
   "metadata": {
    "colab": {
     "base_uri": "https://localhost:8080/"
    },
    "executionInfo": {
     "elapsed": 1791,
     "status": "ok",
     "timestamp": 1658280126853,
     "user": {
      "displayName": "Nhật Minh Hoàng Trần",
      "userId": "17860532926939693584"
     },
     "user_tz": -420
    },
    "id": "f7WGPZueZ3fL",
    "outputId": "1fd77fbe-c707-487b-a005-432dd13a676a"
   },
   "outputs": [
    {
     "name": "stdout",
     "output_type": "stream",
     "text": [
      "[[218 298]\n",
      " [ 23  43]]\n",
      "0.774235187814638\n",
      "0.35537190082644626\n"
     ]
    }
   ],
   "source": [
    "gb = GradientBoostingClassifier(\n",
    "    learning_rate=0.001,\n",
    "    n_estimators=40,\n",
    "    max_depth=4,\n",
    "    random_state=RANDOM_STATE\n",
    ").fit(X_train, y_train)\n",
    "y_val_pred = gb.predict(X_val)\n",
    "print(confusion_matrix(y_val, y_val_pred))\n",
    "print(f2_score(y_train, gb.predict(X_train)))\n",
    "print(f2_score(y_val, y_val_pred))"
   ]
  },
  {
   "cell_type": "code",
   "execution_count": 52,
   "metadata": {
    "colab": {
     "base_uri": "https://localhost:8080/"
    },
    "executionInfo": {
     "elapsed": 3512,
     "status": "ok",
     "timestamp": 1658280134651,
     "user": {
      "displayName": "Nhật Minh Hoàng Trần",
      "userId": "17860532926939693584"
     },
     "user_tz": -420
    },
    "id": "T2jLK1NDO3fF",
    "outputId": "5c58d6b8-1ba8-4ac1-efcb-c400d21039ab"
   },
   "outputs": [
    {
     "name": "stdout",
     "output_type": "stream",
     "text": [
      "[[252 264]\n",
      " [ 32  34]]\n",
      "0.7312604551127161\n",
      "0.30249110320284694\n"
     ]
    }
   ],
   "source": [
    "gb = GradientBoostingClassifier(\n",
    "    learning_rate=0.001,\n",
    "    n_estimators=40,\n",
    "    max_depth=5,\n",
    "    random_state=RANDOM_STATE\n",
    ").fit(X_train, y_train)\n",
    "y_val_pred = gb.predict(X_val)\n",
    "print(confusion_matrix(y_val, y_val_pred))\n",
    "print(f2_score(y_train, gb.predict(X_train)))\n",
    "print(f2_score(y_val, y_val_pred))"
   ]
  },
  {
   "cell_type": "code",
   "execution_count": 54,
   "metadata": {
    "colab": {
     "base_uri": "https://localhost:8080/"
    },
    "executionInfo": {
     "elapsed": 3352,
     "status": "ok",
     "timestamp": 1658280142970,
     "user": {
      "displayName": "Nhật Minh Hoàng Trần",
      "userId": "17860532926939693584"
     },
     "user_tz": -420
    },
    "id": "ahEjTLPjWHyU",
    "outputId": "e5e9ea50-cb28-4549-de3f-995492eefb21"
   },
   "outputs": [
    {
     "name": "stdout",
     "output_type": "stream",
     "text": [
      "[[125 391]\n",
      " [ 10  56]]\n",
      "0.821989913333007\n",
      "0.39381153305203936\n"
     ]
    }
   ],
   "source": [
    "gb = GradientBoostingClassifier(\n",
    "    learning_rate=0.001,\n",
    "    n_estimators=40,\n",
    "    max_depth=2,\n",
    "    random_state=RANDOM_STATE\n",
    ").fit(X_train, y_train)\n",
    "y_val_pred = gb.predict(X_val)\n",
    "print(confusion_matrix(y_val, y_val_pred))\n",
    "print(f2_score(y_train, gb.predict(X_train)))\n",
    "print(f2_score(y_val, y_val_pred))"
   ]
  },
  {
   "cell_type": "code",
   "execution_count": 56,
   "metadata": {
    "colab": {
     "base_uri": "https://localhost:8080/"
    },
    "executionInfo": {
     "elapsed": 940,
     "status": "ok",
     "timestamp": 1658280147682,
     "user": {
      "displayName": "Nhật Minh Hoàng Trần",
      "userId": "17860532926939693584"
     },
     "user_tz": -420
    },
    "id": "YJTfpMZqWL0K",
    "outputId": "f5b4d206-2181-498c-f28a-688097a4de73"
   },
   "outputs": [
    {
     "name": "stdout",
     "output_type": "stream",
     "text": [
      "[[ 80 436]\n",
      " [  2  64]]\n",
      "0.8277262459749122\n",
      "0.418848167539267\n"
     ]
    }
   ],
   "source": [
    "gb = GradientBoostingClassifier(\n",
    "    learning_rate=0.001,\n",
    "    n_estimators=40,\n",
    "    max_depth=1,\n",
    "    random_state=RANDOM_STATE\n",
    ").fit(X_train, y_train)\n",
    "y_val_pred = gb.predict(X_val)\n",
    "print(confusion_matrix(y_val, y_val_pred))\n",
    "print(f2_score(y_train, gb.predict(X_train)))\n",
    "print(f2_score(y_val, y_val_pred))"
   ]
  },
  {
   "cell_type": "code",
   "execution_count": 57,
   "metadata": {
    "colab": {
     "base_uri": "https://localhost:8080/"
    },
    "executionInfo": {
     "elapsed": 14414,
     "status": "ok",
     "timestamp": 1658280162095,
     "user": {
      "displayName": "Nhật Minh Hoàng Trần",
      "userId": "17860532926939693584"
     },
     "user_tz": -420
    },
    "id": "Dl1crJVpWQYx",
    "outputId": "ca8b8691-eb8c-4049-cf69-d0324d6b1c57"
   },
   "outputs": [
    {
     "name": "stdout",
     "output_type": "stream",
     "text": [
      "[[383 133]\n",
      " [ 47  19]]\n",
      "0.953286332852226\n",
      "0.22836538461538464\n"
     ]
    }
   ],
   "source": [
    "gb = GradientBoostingClassifier(\n",
    "    learning_rate=0.001,\n",
    "    n_estimators=40,\n",
    "    max_depth=20,\n",
    "    random_state=RANDOM_STATE\n",
    ").fit(X_train, y_train)\n",
    "y_val_pred = gb.predict(X_val)\n",
    "print(confusion_matrix(y_val, y_val_pred))\n",
    "print(f2_score(y_train, gb.predict(X_train)))\n",
    "print(f2_score(y_val, y_val_pred))"
   ]
  },
  {
   "cell_type": "markdown",
   "metadata": {
    "id": "sS6SlsP1WfEV"
   },
   "source": [
    "# Final evaluation"
   ]
  },
  {
   "cell_type": "code",
   "execution_count": 58,
   "metadata": {
    "colab": {
     "base_uri": "https://localhost:8080/",
     "height": 488
    },
    "executionInfo": {
     "elapsed": 17,
     "status": "ok",
     "timestamp": 1658280162096,
     "user": {
      "displayName": "Nhật Minh Hoàng Trần",
      "userId": "17860532926939693584"
     },
     "user_tz": -420
    },
    "id": "BB6TSCLLbLzz",
    "outputId": "006072eb-7d76-4c9a-d5fa-ecaeeb467b38"
   },
   "outputs": [
    {
     "data": {
      "text/html": [
       "\n",
       "  <div id=\"df-835aa9fd-f666-4bc9-bffc-4ed7dd6b0196\">\n",
       "    <div class=\"colab-df-container\">\n",
       "      <div>\n",
       "<style scoped>\n",
       "    .dataframe tbody tr th:only-of-type {\n",
       "        vertical-align: middle;\n",
       "    }\n",
       "\n",
       "    .dataframe tbody tr th {\n",
       "        vertical-align: top;\n",
       "    }\n",
       "\n",
       "    .dataframe thead th {\n",
       "        text-align: right;\n",
       "    }\n",
       "</style>\n",
       "<table border=\"1\" class=\"dataframe\">\n",
       "  <thead>\n",
       "    <tr style=\"text-align: right;\">\n",
       "      <th></th>\n",
       "      <th>Gender</th>\n",
       "      <th>Own_car</th>\n",
       "      <th>Own_property</th>\n",
       "      <th>Work_phone</th>\n",
       "      <th>Phone</th>\n",
       "      <th>Email</th>\n",
       "      <th>Unemployed</th>\n",
       "      <th>Num_children</th>\n",
       "      <th>Num_family</th>\n",
       "      <th>Account_length</th>\n",
       "      <th>...</th>\n",
       "      <th>Occupation_type_10</th>\n",
       "      <th>Occupation_type_11</th>\n",
       "      <th>Occupation_type_12</th>\n",
       "      <th>Occupation_type_13</th>\n",
       "      <th>Occupation_type_14</th>\n",
       "      <th>Occupation_type_15</th>\n",
       "      <th>Occupation_type_16</th>\n",
       "      <th>Occupation_type_17</th>\n",
       "      <th>Occupation_type_18</th>\n",
       "      <th>Occupation_type_19</th>\n",
       "    </tr>\n",
       "  </thead>\n",
       "  <tbody>\n",
       "    <tr>\n",
       "      <th>0</th>\n",
       "      <td>0</td>\n",
       "      <td>0</td>\n",
       "      <td>1</td>\n",
       "      <td>0</td>\n",
       "      <td>0</td>\n",
       "      <td>0</td>\n",
       "      <td>0</td>\n",
       "      <td>-0.647202</td>\n",
       "      <td>-0.037197</td>\n",
       "      <td>1.657132</td>\n",
       "      <td>...</td>\n",
       "      <td>0</td>\n",
       "      <td>0</td>\n",
       "      <td>0</td>\n",
       "      <td>0</td>\n",
       "      <td>0</td>\n",
       "      <td>0</td>\n",
       "      <td>0</td>\n",
       "      <td>0</td>\n",
       "      <td>0</td>\n",
       "      <td>0</td>\n",
       "    </tr>\n",
       "    <tr>\n",
       "      <th>1</th>\n",
       "      <td>0</td>\n",
       "      <td>1</td>\n",
       "      <td>1</td>\n",
       "      <td>0</td>\n",
       "      <td>0</td>\n",
       "      <td>0</td>\n",
       "      <td>0</td>\n",
       "      <td>1.468683</td>\n",
       "      <td>0.972997</td>\n",
       "      <td>1.657132</td>\n",
       "      <td>...</td>\n",
       "      <td>0</td>\n",
       "      <td>0</td>\n",
       "      <td>0</td>\n",
       "      <td>0</td>\n",
       "      <td>0</td>\n",
       "      <td>0</td>\n",
       "      <td>0</td>\n",
       "      <td>0</td>\n",
       "      <td>0</td>\n",
       "      <td>0</td>\n",
       "    </tr>\n",
       "    <tr>\n",
       "      <th>2</th>\n",
       "      <td>1</td>\n",
       "      <td>0</td>\n",
       "      <td>0</td>\n",
       "      <td>1</td>\n",
       "      <td>1</td>\n",
       "      <td>0</td>\n",
       "      <td>0</td>\n",
       "      <td>1.468683</td>\n",
       "      <td>0.972997</td>\n",
       "      <td>-1.383327</td>\n",
       "      <td>...</td>\n",
       "      <td>0</td>\n",
       "      <td>0</td>\n",
       "      <td>0</td>\n",
       "      <td>0</td>\n",
       "      <td>0</td>\n",
       "      <td>0</td>\n",
       "      <td>0</td>\n",
       "      <td>0</td>\n",
       "      <td>0</td>\n",
       "      <td>0</td>\n",
       "    </tr>\n",
       "    <tr>\n",
       "      <th>3</th>\n",
       "      <td>1</td>\n",
       "      <td>0</td>\n",
       "      <td>1</td>\n",
       "      <td>0</td>\n",
       "      <td>0</td>\n",
       "      <td>0</td>\n",
       "      <td>0</td>\n",
       "      <td>1.468683</td>\n",
       "      <td>-0.037197</td>\n",
       "      <td>-1.991669</td>\n",
       "      <td>...</td>\n",
       "      <td>0</td>\n",
       "      <td>0</td>\n",
       "      <td>0</td>\n",
       "      <td>0</td>\n",
       "      <td>0</td>\n",
       "      <td>0</td>\n",
       "      <td>0</td>\n",
       "      <td>0</td>\n",
       "      <td>0</td>\n",
       "      <td>0</td>\n",
       "    </tr>\n",
       "    <tr>\n",
       "      <th>4</th>\n",
       "      <td>0</td>\n",
       "      <td>0</td>\n",
       "      <td>1</td>\n",
       "      <td>0</td>\n",
       "      <td>0</td>\n",
       "      <td>0</td>\n",
       "      <td>0</td>\n",
       "      <td>1.710836</td>\n",
       "      <td>2.286411</td>\n",
       "      <td>0.895521</td>\n",
       "      <td>...</td>\n",
       "      <td>0</td>\n",
       "      <td>0</td>\n",
       "      <td>0</td>\n",
       "      <td>0</td>\n",
       "      <td>0</td>\n",
       "      <td>0</td>\n",
       "      <td>0</td>\n",
       "      <td>0</td>\n",
       "      <td>0</td>\n",
       "      <td>0</td>\n",
       "    </tr>\n",
       "    <tr>\n",
       "      <th>...</th>\n",
       "      <td>...</td>\n",
       "      <td>...</td>\n",
       "      <td>...</td>\n",
       "      <td>...</td>\n",
       "      <td>...</td>\n",
       "      <td>...</td>\n",
       "      <td>...</td>\n",
       "      <td>...</td>\n",
       "      <td>...</td>\n",
       "      <td>...</td>\n",
       "      <td>...</td>\n",
       "      <td>...</td>\n",
       "      <td>...</td>\n",
       "      <td>...</td>\n",
       "      <td>...</td>\n",
       "      <td>...</td>\n",
       "      <td>...</td>\n",
       "      <td>...</td>\n",
       "      <td>...</td>\n",
       "      <td>...</td>\n",
       "      <td>...</td>\n",
       "    </tr>\n",
       "    <tr>\n",
       "      <th>14901</th>\n",
       "      <td>1</td>\n",
       "      <td>1</td>\n",
       "      <td>0</td>\n",
       "      <td>0</td>\n",
       "      <td>1</td>\n",
       "      <td>0</td>\n",
       "      <td>0</td>\n",
       "      <td>1.665184</td>\n",
       "      <td>1.711170</td>\n",
       "      <td>-1.485146</td>\n",
       "      <td>...</td>\n",
       "      <td>0</td>\n",
       "      <td>0</td>\n",
       "      <td>0</td>\n",
       "      <td>0</td>\n",
       "      <td>0</td>\n",
       "      <td>0</td>\n",
       "      <td>0</td>\n",
       "      <td>0</td>\n",
       "      <td>0</td>\n",
       "      <td>0</td>\n",
       "    </tr>\n",
       "    <tr>\n",
       "      <th>14902</th>\n",
       "      <td>1</td>\n",
       "      <td>0</td>\n",
       "      <td>1</td>\n",
       "      <td>0</td>\n",
       "      <td>1</td>\n",
       "      <td>0</td>\n",
       "      <td>0</td>\n",
       "      <td>1.468683</td>\n",
       "      <td>0.972997</td>\n",
       "      <td>0.699769</td>\n",
       "      <td>...</td>\n",
       "      <td>0</td>\n",
       "      <td>0</td>\n",
       "      <td>0</td>\n",
       "      <td>0</td>\n",
       "      <td>0</td>\n",
       "      <td>0</td>\n",
       "      <td>0</td>\n",
       "      <td>0</td>\n",
       "      <td>0</td>\n",
       "      <td>0</td>\n",
       "    </tr>\n",
       "    <tr>\n",
       "      <th>14903</th>\n",
       "      <td>0</td>\n",
       "      <td>1</td>\n",
       "      <td>0</td>\n",
       "      <td>1</td>\n",
       "      <td>0</td>\n",
       "      <td>0</td>\n",
       "      <td>0</td>\n",
       "      <td>1.468683</td>\n",
       "      <td>-0.037197</td>\n",
       "      <td>0.227392</td>\n",
       "      <td>...</td>\n",
       "      <td>0</td>\n",
       "      <td>1</td>\n",
       "      <td>0</td>\n",
       "      <td>0</td>\n",
       "      <td>0</td>\n",
       "      <td>0</td>\n",
       "      <td>0</td>\n",
       "      <td>0</td>\n",
       "      <td>0</td>\n",
       "      <td>0</td>\n",
       "    </tr>\n",
       "    <tr>\n",
       "      <th>14904</th>\n",
       "      <td>0</td>\n",
       "      <td>0</td>\n",
       "      <td>1</td>\n",
       "      <td>0</td>\n",
       "      <td>1</td>\n",
       "      <td>0</td>\n",
       "      <td>0</td>\n",
       "      <td>1.468683</td>\n",
       "      <td>0.972997</td>\n",
       "      <td>0.115080</td>\n",
       "      <td>...</td>\n",
       "      <td>0</td>\n",
       "      <td>0</td>\n",
       "      <td>0</td>\n",
       "      <td>0</td>\n",
       "      <td>0</td>\n",
       "      <td>0</td>\n",
       "      <td>0</td>\n",
       "      <td>0</td>\n",
       "      <td>0</td>\n",
       "      <td>0</td>\n",
       "    </tr>\n",
       "    <tr>\n",
       "      <th>14905</th>\n",
       "      <td>0</td>\n",
       "      <td>0</td>\n",
       "      <td>0</td>\n",
       "      <td>0</td>\n",
       "      <td>0</td>\n",
       "      <td>0</td>\n",
       "      <td>0</td>\n",
       "      <td>-0.647202</td>\n",
       "      <td>-1.581207</td>\n",
       "      <td>1.443240</td>\n",
       "      <td>...</td>\n",
       "      <td>0</td>\n",
       "      <td>1</td>\n",
       "      <td>0</td>\n",
       "      <td>0</td>\n",
       "      <td>0</td>\n",
       "      <td>0</td>\n",
       "      <td>0</td>\n",
       "      <td>0</td>\n",
       "      <td>0</td>\n",
       "      <td>0</td>\n",
       "    </tr>\n",
       "  </tbody>\n",
       "</table>\n",
       "<p>14906 rows × 49 columns</p>\n",
       "</div>\n",
       "      <button class=\"colab-df-convert\" onclick=\"convertToInteractive('df-835aa9fd-f666-4bc9-bffc-4ed7dd6b0196')\"\n",
       "              title=\"Convert this dataframe to an interactive table.\"\n",
       "              style=\"display:none;\">\n",
       "        \n",
       "  <svg xmlns=\"http://www.w3.org/2000/svg\" height=\"24px\"viewBox=\"0 0 24 24\"\n",
       "       width=\"24px\">\n",
       "    <path d=\"M0 0h24v24H0V0z\" fill=\"none\"/>\n",
       "    <path d=\"M18.56 5.44l.94 2.06.94-2.06 2.06-.94-2.06-.94-.94-2.06-.94 2.06-2.06.94zm-11 1L8.5 8.5l.94-2.06 2.06-.94-2.06-.94L8.5 2.5l-.94 2.06-2.06.94zm10 10l.94 2.06.94-2.06 2.06-.94-2.06-.94-.94-2.06-.94 2.06-2.06.94z\"/><path d=\"M17.41 7.96l-1.37-1.37c-.4-.4-.92-.59-1.43-.59-.52 0-1.04.2-1.43.59L10.3 9.45l-7.72 7.72c-.78.78-.78 2.05 0 2.83L4 21.41c.39.39.9.59 1.41.59.51 0 1.02-.2 1.41-.59l7.78-7.78 2.81-2.81c.8-.78.8-2.07 0-2.86zM5.41 20L4 18.59l7.72-7.72 1.47 1.35L5.41 20z\"/>\n",
       "  </svg>\n",
       "      </button>\n",
       "      \n",
       "  <style>\n",
       "    .colab-df-container {\n",
       "      display:flex;\n",
       "      flex-wrap:wrap;\n",
       "      gap: 12px;\n",
       "    }\n",
       "\n",
       "    .colab-df-convert {\n",
       "      background-color: #E8F0FE;\n",
       "      border: none;\n",
       "      border-radius: 50%;\n",
       "      cursor: pointer;\n",
       "      display: none;\n",
       "      fill: #1967D2;\n",
       "      height: 32px;\n",
       "      padding: 0 0 0 0;\n",
       "      width: 32px;\n",
       "    }\n",
       "\n",
       "    .colab-df-convert:hover {\n",
       "      background-color: #E2EBFA;\n",
       "      box-shadow: 0px 1px 2px rgba(60, 64, 67, 0.3), 0px 1px 3px 1px rgba(60, 64, 67, 0.15);\n",
       "      fill: #174EA6;\n",
       "    }\n",
       "\n",
       "    [theme=dark] .colab-df-convert {\n",
       "      background-color: #3B4455;\n",
       "      fill: #D2E3FC;\n",
       "    }\n",
       "\n",
       "    [theme=dark] .colab-df-convert:hover {\n",
       "      background-color: #434B5C;\n",
       "      box-shadow: 0px 1px 3px 1px rgba(0, 0, 0, 0.15);\n",
       "      filter: drop-shadow(0px 1px 2px rgba(0, 0, 0, 0.3));\n",
       "      fill: #FFFFFF;\n",
       "    }\n",
       "  </style>\n",
       "\n",
       "      <script>\n",
       "        const buttonEl =\n",
       "          document.querySelector('#df-835aa9fd-f666-4bc9-bffc-4ed7dd6b0196 button.colab-df-convert');\n",
       "        buttonEl.style.display =\n",
       "          google.colab.kernel.accessAllowed ? 'block' : 'none';\n",
       "\n",
       "        async function convertToInteractive(key) {\n",
       "          const element = document.querySelector('#df-835aa9fd-f666-4bc9-bffc-4ed7dd6b0196');\n",
       "          const dataTable =\n",
       "            await google.colab.kernel.invokeFunction('convertToInteractive',\n",
       "                                                     [key], {});\n",
       "          if (!dataTable) return;\n",
       "\n",
       "          const docLinkHtml = 'Like what you see? Visit the ' +\n",
       "            '<a target=\"_blank\" href=https://colab.research.google.com/notebooks/data_table.ipynb>data table notebook</a>'\n",
       "            + ' to learn more about interactive tables.';\n",
       "          element.innerHTML = '';\n",
       "          dataTable['output_type'] = 'display_data';\n",
       "          await google.colab.output.renderOutput(dataTable, element);\n",
       "          const docLink = document.createElement('div');\n",
       "          docLink.innerHTML = docLinkHtml;\n",
       "          element.appendChild(docLink);\n",
       "        }\n",
       "      </script>\n",
       "    </div>\n",
       "  </div>\n",
       "  "
      ],
      "text/plain": [
       "       Gender  Own_car  Own_property  Work_phone  Phone  Email  Unemployed  \\\n",
       "0           0        0             1           0      0      0           0   \n",
       "1           0        1             1           0      0      0           0   \n",
       "2           1        0             0           1      1      0           0   \n",
       "3           1        0             1           0      0      0           0   \n",
       "4           0        0             1           0      0      0           0   \n",
       "...       ...      ...           ...         ...    ...    ...         ...   \n",
       "14901       1        1             0           0      1      0           0   \n",
       "14902       1        0             1           0      1      0           0   \n",
       "14903       0        1             0           1      0      0           0   \n",
       "14904       0        0             1           0      1      0           0   \n",
       "14905       0        0             0           0      0      0           0   \n",
       "\n",
       "       Num_children  Num_family  Account_length  ...  Occupation_type_10  \\\n",
       "0         -0.647202   -0.037197        1.657132  ...                   0   \n",
       "1          1.468683    0.972997        1.657132  ...                   0   \n",
       "2          1.468683    0.972997       -1.383327  ...                   0   \n",
       "3          1.468683   -0.037197       -1.991669  ...                   0   \n",
       "4          1.710836    2.286411        0.895521  ...                   0   \n",
       "...             ...         ...             ...  ...                 ...   \n",
       "14901      1.665184    1.711170       -1.485146  ...                   0   \n",
       "14902      1.468683    0.972997        0.699769  ...                   0   \n",
       "14903      1.468683   -0.037197        0.227392  ...                   0   \n",
       "14904      1.468683    0.972997        0.115080  ...                   0   \n",
       "14905     -0.647202   -1.581207        1.443240  ...                   0   \n",
       "\n",
       "       Occupation_type_11  Occupation_type_12  Occupation_type_13  \\\n",
       "0                       0                   0                   0   \n",
       "1                       0                   0                   0   \n",
       "2                       0                   0                   0   \n",
       "3                       0                   0                   0   \n",
       "4                       0                   0                   0   \n",
       "...                   ...                 ...                 ...   \n",
       "14901                   0                   0                   0   \n",
       "14902                   0                   0                   0   \n",
       "14903                   1                   0                   0   \n",
       "14904                   0                   0                   0   \n",
       "14905                   1                   0                   0   \n",
       "\n",
       "       Occupation_type_14  Occupation_type_15  Occupation_type_16  \\\n",
       "0                       0                   0                   0   \n",
       "1                       0                   0                   0   \n",
       "2                       0                   0                   0   \n",
       "3                       0                   0                   0   \n",
       "4                       0                   0                   0   \n",
       "...                   ...                 ...                 ...   \n",
       "14901                   0                   0                   0   \n",
       "14902                   0                   0                   0   \n",
       "14903                   0                   0                   0   \n",
       "14904                   0                   0                   0   \n",
       "14905                   0                   0                   0   \n",
       "\n",
       "       Occupation_type_17  Occupation_type_18  Occupation_type_19  \n",
       "0                       0                   0                   0  \n",
       "1                       0                   0                   0  \n",
       "2                       0                   0                   0  \n",
       "3                       0                   0                   0  \n",
       "4                       0                   0                   0  \n",
       "...                   ...                 ...                 ...  \n",
       "14901                   0                   0                   0  \n",
       "14902                   0                   0                   0  \n",
       "14903                   0                   0                   0  \n",
       "14904                   0                   0                   0  \n",
       "14905                   0                   0                   0  \n",
       "\n",
       "[14906 rows x 49 columns]"
      ]
     },
     "execution_count": 58,
     "metadata": {},
     "output_type": "execute_result"
    }
   ],
   "source": [
    "X_train_val = X_train.append(X_val, ignore_index=True)\n",
    "X_train_val"
   ]
  },
  {
   "cell_type": "code",
   "execution_count": 59,
   "metadata": {
    "executionInfo": {
     "elapsed": 15,
     "status": "ok",
     "timestamp": 1658280162096,
     "user": {
      "displayName": "Nhật Minh Hoàng Trần",
      "userId": "17860532926939693584"
     },
     "user_tz": -420
    },
    "id": "oitlC1adcBOA"
   },
   "outputs": [],
   "source": [
    "y_train_val = np.append(y_train, y_val)"
   ]
  },
  {
   "cell_type": "code",
   "execution_count": 60,
   "metadata": {
    "colab": {
     "base_uri": "https://localhost:8080/"
    },
    "executionInfo": {
     "elapsed": 560,
     "status": "ok",
     "timestamp": 1658280162641,
     "user": {
      "displayName": "Nhật Minh Hoàng Trần",
      "userId": "17860532926939693584"
     },
     "user_tz": -420
    },
    "id": "uITlNzNvWeqg",
    "outputId": "1c023ec3-3967-4714-abc4-e18cb93a9cfd"
   },
   "outputs": [
    {
     "name": "stdout",
     "output_type": "stream",
     "text": [
      "[[748   0]\n",
      " [127   0]]\n",
      "0.0\n",
      "0.0\n",
      "[[7678    0]\n",
      " [7228    0]]\n"
     ]
    }
   ],
   "source": [
    "gb = GradientBoostingClassifier(\n",
    "    learning_rate=0.001,\n",
    "    n_estimators=40,\n",
    "    max_depth=1,\n",
    "    random_state=RANDOM_STATE\n",
    ").fit(X_train_val, y_train_val)\n",
    "y_test_pred = gb.predict(X_test)\n",
    "y_train_val_pred = gb.predict(X_train_val)\n",
    "print(confusion_matrix(y_test, y_test_pred))\n",
    "print(f2_score(y_train_val, y_train_val_pred))\n",
    "print(f2_score(y_test, y_test_pred))\n",
    "print(confusion_matrix(y_train_val, y_train_val_pred))"
   ]
  },
  {
   "cell_type": "code",
   "execution_count": 61,
   "metadata": {
    "colab": {
     "base_uri": "https://localhost:8080/"
    },
    "executionInfo": {
     "elapsed": 448,
     "status": "ok",
     "timestamp": 1658280163085,
     "user": {
      "displayName": "Nhật Minh Hoàng Trần",
      "userId": "17860532926939693584"
     },
     "user_tz": -420
    },
    "id": "C_VvjGuWdN1t",
    "outputId": "272dfbde-f935-400f-da40-9b0c27fa6d46"
   },
   "outputs": [
    {
     "name": "stdout",
     "output_type": "stream",
     "text": [
      "[[115 633]\n",
      " [  8 119]]\n",
      "0.8277262459749122\n",
      "0.4722222222222222\n"
     ]
    }
   ],
   "source": [
    "gb = GradientBoostingClassifier(\n",
    "    learning_rate=0.001,\n",
    "    n_estimators=40,\n",
    "    max_depth=1,\n",
    "    random_state=RANDOM_STATE\n",
    ").fit(X_train, y_train)\n",
    "y_test_pred = gb.predict(X_test)\n",
    "print(confusion_matrix(y_test, y_test_pred))\n",
    "print(f2_score(y_train, gb.predict(X_train)))\n",
    "print(f2_score(y_test, y_test_pred))"
   ]
  }
 ],
 "metadata": {
  "colab": {
   "authorship_tag": "ABX9TyMhqSCPFpOitsGpIWOHOHLp",
   "collapsed_sections": [],
   "mount_file_id": "1eGNs33bUP5j7zwRMoD0QmiM4ntU4OkCJ",
   "name": "gradient boosting.ipynb",
   "provenance": [],
   "toc_visible": true
  },
  "kernelspec": {
   "display_name": "Python 3",
   "language": "python",
   "name": "python3"
  },
  "language_info": {
   "codemirror_mode": {
    "name": "ipython",
    "version": 3
   },
   "file_extension": ".py",
   "mimetype": "text/x-python",
   "name": "python",
   "nbconvert_exporter": "python",
   "pygments_lexer": "ipython3",
   "version": "3.8.8"
  }
 },
 "nbformat": 4,
 "nbformat_minor": 1
}
